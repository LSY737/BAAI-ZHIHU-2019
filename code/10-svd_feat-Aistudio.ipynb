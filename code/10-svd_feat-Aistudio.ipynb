{
 "cells": [
  {
   "cell_type": "code",
   "execution_count": 1,
   "metadata": {},
   "outputs": [],
   "source": [
    "import pandas as pd\n",
    "import numpy as np\n",
    "import re\n",
    "import time\n",
    "import os\n",
    "from sklearn.preprocessing import LabelEncoder\n",
    "from sklearn.feature_extraction.text import TfidfVectorizer\n",
    "from sklearn.decomposition import TruncatedSVD\n",
    "import warnings\n",
    "import gc\n",
    "warnings.filterwarnings(\"ignore\")"
   ]
  },
  {
   "cell_type": "code",
   "execution_count": 1,
   "metadata": {},
   "outputs": [],
   "source": [
    "DATA_PATH = '../data/data_set_0926/'\n",
    "FEAT_PATH = './features/'"
   ]
  },
  {
   "cell_type": "code",
   "execution_count": 2,
   "metadata": {},
   "outputs": [],
   "source": [
    "tic = time.time()\n",
    "\n",
    "invite_info = pd.read_table(os.path.join(DATA_PATH, 'invite_info_0926.txt'), header=None)\n",
    "invite_info.columns = ['问题ID','用户ID','邀请创建时间','邀请是否被回答']\n",
    "\n",
    "invite_info_evaluate_A = pd.read_table(os.path.join(DATA_PATH, 'invite_info_evaluate_1_0926.txt'), header=None)\n",
    "invite_info_evaluate_A.columns =  ['问题ID','用户ID','邀请创建时间']\n",
    "\n",
    "invite_info_evaluate_B = pd.read_table(os.path.join(DATA_PATH, 'invite_info_evaluate_2_0926.txt'), header=None)\n",
    "invite_info_evaluate_B.columns =  ['问题ID','用户ID','邀请创建时间']\n",
    "\n",
    "question_info = pd.read_table(os.path.join(DATA_PATH, 'question_info_0926.txt'), header=None)\n",
    "question_info.columns = ['问题ID',  '问题创建时间' , '问题标题的单字编码序列' , '问题标题的切词编码序列' , '问题描述的单字编码序列',  '问题描述的词编码序列' , '问题绑定的话题ID']\n",
    "    \n",
    "member_info = pd.read_table(os.path.join(DATA_PATH, 'member_info_0926.txt'), header=None)\n",
    "member_info.columns = ['用户ID','性别','创作关键词的编码序列','创作数量等级','创作热度等级','注册类型','注册平台','访问频率','用户二分类特征A','用户二分类特征B','用户二分类特征C','用户二分类特征D','用户二分类特征E','用户分类特征A','用户分类特征B','用户分类特征C','用户分类特征D','用户分类特征E','用户的盐值分数','用户关注的话题','用户感兴趣的话题']\n",
    "\n",
    "tmp = member_info['用户感兴趣的话题'].apply(lambda x: re.split('[,:]',x))\n",
    "member_info['用户感兴趣的话题_T'] = tmp.apply(lambda x : ','.join(x[::2]))\n",
    "member_info['用户感兴趣的话题_score'] = tmp.apply(lambda x : ','.join(x[1::2]))\n",
    "\n",
    "oversample = True\n",
    "\n",
    "if oversample:\n",
    "    data = pd.concat([invite_info, invite_info_evaluate_B, invite_info_evaluate_A], axis=0)\n",
    "else:\n",
    "    data = pd.concat([invite_info, invite_info_evaluate_B], axis=0)\n",
    "                            \n",
    "data = data.merge(member_info, on='用户ID', how='left').merge(question_info, on='问题ID', how='left')\n",
    "\n",
    "print('Used time: %d' % int(toc-tic))"
   ]
  },
  {
   "cell_type": "code",
   "execution_count": null,
   "metadata": {},
   "outputs": [],
   "source": [
    "tic = time.time()\n",
    "X_ques = TfidfVectorizer(token_pattern='[A-Z0-9]+',binary=True).fit_transform(data['问题绑定的话题ID'])\n",
    "ques_svd = TruncatedSVD(n_components=30,n_iter=30,random_state=2019).fit_transform(X_ques)\n",
    "ques_svd_df = pd.DataFrame(ques_svd, columns=['问题绑定的话题ID_svd_{}'.format(i) for i in range(1,31)])\n",
    "ques_svd_df[:len(invite_info)+len(invite_info_evaluate_B)].to_pickle(os.path.join(FEAT_PATH, 'ques_topicID_svd_30.pickle'))\n",
    "    \n",
    "X_ques = TfidfVectorizer(token_pattern='[A-Z0-9]+',binary=True).fit_transform(data['用户关注的话题'])\n",
    "ques_svd = TruncatedSVD(n_components=10,n_iter=30,random_state=2019).fit_transform(X_ques)\n",
    "ques_svd_df = pd.DataFrame(ques_svd, columns=['用户关注的话题_svd_{}'.format(i) for i in range(1,11)])\n",
    "ques_svd_df[:len(invite_info)+len(invite_info_evaluate_B)].to_pickle(os.path.join(FEAT_PATH, 'user_watched_topic_svd_30.pickle'))\n",
    "    \n",
    "X_ques = TfidfVectorizer(token_pattern='[A-Z0-9]+',binary=True).fit_transform(data['用户感兴趣的话题_T'])\n",
    "ques_svd = TruncatedSVD(n_components=10,n_iter=30,random_state=2019).fit_transform(X_ques)\n",
    "ques_svd_df = pd.DataFrame(ques_svd, columns=['user_ques_fav_svd_{}'.format(i) for i in range(1,11)])\n",
    "ques_svd_df[:len(invite_info)+len(invite_info_evaluate_B)].to_pickle(os.path.join(FEAT_PATH, 'user_fav_topic_svd_30.pickle'))\n",
    "toc = time.time()\n",
    "\n",
    "print('Used time: %d' % int(toc-tic))"
   ]
  },
  {
   "cell_type": "code",
   "execution_count": null,
   "metadata": {},
   "outputs": [],
   "source": []
  }
 ],
 "metadata": {
  "kernelspec": {
   "display_name": "Python 3",
   "language": "python",
   "name": "python3"
  },
  "language_info": {
   "codemirror_mode": {
    "name": "ipython",
    "version": 3
   },
   "file_extension": ".py",
   "mimetype": "text/x-python",
   "name": "python",
   "nbconvert_exporter": "python",
   "pygments_lexer": "ipython3",
   "version": "3.6.7"
  }
 },
 "nbformat": 4,
 "nbformat_minor": 2
}
