{
 "cells": [
  {
   "cell_type": "code",
   "execution_count": 1,
   "metadata": {},
   "outputs": [
    {
     "name": "stdout",
     "output_type": "stream",
     "text": [
      "INFO: Pandarallel will run on 64 workers.\n",
      "INFO: Pandarallel will use Memory file system to transfer data between the main process and workers.\n"
     ]
    }
   ],
   "source": [
    "import pandas as pd\n",
    "import numpy as np\n",
    "from tqdm.notebook import tqdm\n",
    "from sklearn.model_selection import StratifiedKFold\n",
    "from sklearn.preprocessing import LabelEncoder\n",
    "import time\n",
    "import gc\n",
    "import re\n",
    "import os\n",
    "import warnings\n",
    "warnings.filterwarnings(\"ignore\")\n",
    "\n",
    "from pandarallel import pandarallel\n",
    "pandarallel.initialize()"
   ]
  },
  {
   "cell_type": "code",
   "execution_count": 1,
   "metadata": {},
   "outputs": [],
   "source": [
    "DATA_PATH = '../data/data_set_0926/'\n",
    "FEAT_PATH = './features/'"
   ]
  },
  {
   "cell_type": "code",
   "execution_count": 2,
   "metadata": {},
   "outputs": [
    {
     "name": "stdout",
     "output_type": "stream",
     "text": [
      "Used time: 100 s\n"
     ]
    }
   ],
   "source": [
    "tic = time.time()\n",
    "invite_info = pd.read_table(os.path.join(DATA_PATH, 'invite_info_0926.txt'), header=None)\n",
    "invite_info.columns = ['问题ID','用户ID','邀请创建时间','邀请是否被回答']\n",
    "\n",
    "invite_info_evaluate_A = pd.read_table(os.path.join(DATA_PATH, 'invite_info_evaluate_1_0926.txt'), header=None)\n",
    "invite_info_evaluate_A.columns =  ['问题ID','用户ID','邀请创建时间']\n",
    "\n",
    "invite_info_evaluate_B = pd.read_table(os.path.join(DATA_PATH, 'invite_info_evaluate_2_0926.txt'), header=None)\n",
    "invite_info_evaluate_B.columns =  ['问题ID','用户ID','邀请创建时间']\n",
    "\n",
    "question_info = pd.read_table(os.path.join(DATA_PATH, 'question_info_0926.txt'), header=None)\n",
    "question_info.columns = ['问题ID',  '问题创建时间' , '问题标题的单字编码序列' , '问题标题的切词编码序列' , '问题描述的单字编码序列',  '问题描述的词编码序列' , '问题绑定的话题ID']\n",
    "\n",
    "answer_info = pd.read_table(os.path.join(DATA_PATH, 'answer_info_0926.txt'), header=None)\n",
    "answer_info.columns = ['回答ID','问题ID','用户ID', '回答创建时间' ,'回答内容的单字编码序列', '回答内容的切词编码序列' ,'回答是否被标优', '回答是否被推荐' ,'回答是否被收入圆桌', '是否包含图片' ,'是否包含视频', '回答字数' ,'点赞数', '取赞数' ,'评论数' ,'收藏数', '感谢数' ,'举报数', '没有帮助数' ,'反对数']\n",
    "\n",
    "oversample = False\n",
    "\n",
    "if oversample:\n",
    "    data = pd.concat([invite_info, invite_info_evaluate_B, invite_info_evaluate_A], axis=0)\n",
    "else:\n",
    "    data = pd.concat([invite_info, invite_info_evaluate_B], axis=0)\n",
    "\n",
    "single_word_vectors = pd.read_table(os.path.join(DATA_PATH, 'single_word_vectors_64d.txt'), header=None)\n",
    "single_word_vectors.columns = ['单字编码序号','SW']\n",
    "single_word_vectors['SW'] = single_word_vectors['SW'].apply(lambda x: [float(num) for num in x.split(' ')])\n",
    "\n",
    "embedding = np.vstack(list(single_word_vectors['SW']))\n",
    "embedding = np.vstack([np.zeros((1, 64)), embedding])\n",
    "\n",
    "print(\"Used time: %d s\" % (time.time()-tic))"
   ]
  },
  {
   "cell_type": "code",
   "execution_count": 3,
   "metadata": {},
   "outputs": [
    {
     "data": {
      "application/vnd.jupyter.widget-view+json": {
       "model_id": "39fa28e5b86d4432a15ebfcda6297e3a",
       "version_major": 2,
       "version_minor": 0
      },
      "text/plain": [
       "HBox(children=(FloatProgress(value=0.0, max=4513735.0), HTML(value='')))"
      ]
     },
     "metadata": {},
     "output_type": "display_data"
    },
    {
     "name": "stdout",
     "output_type": "stream",
     "text": [
      "\n",
      "Used time: 429 s\n"
     ]
    }
   ],
   "source": [
    "tic = time.time()\n",
    "tqdm.pandas()\n",
    "answer_info['回答内容的单字编码序列'] = answer_info['回答内容的单字编码序列'].parallel_apply(lambda x: [int(num[2:]) if num != '-1' else [0] for num in x.split(',')])\n",
    "answer_info['问题_SW_w2v_mean'] = answer_info['回答内容的单字编码序列'].progress_apply(lambda x: np.mean(embedding[x], axis=0))\n",
    "answer_info['回答ID_new'] = LabelEncoder().fit_transform(answer_info['回答ID'])\n",
    "answer_info.sort_values(by=['回答ID'],inplace=True)\n",
    "\n",
    "print(\"Used time: %d s\" % (time.time()-tic))"
   ]
  },
  {
   "cell_type": "code",
   "execution_count": 4,
   "metadata": {},
   "outputs": [
    {
     "name": "stdout",
     "output_type": "stream",
     "text": [
      "Used time: 82 s\n"
     ]
    }
   ],
   "source": [
    "tic = time.time()\n",
    "tmp = data['邀请创建时间'].apply(lambda x : x.split('-'))\n",
    "data['邀请创建时间_H'] = tmp.apply(lambda x : int(x[1::1][0][1:]))\n",
    "data['邀请创建时间_D'] = tmp.apply(lambda x : int(x[::2][0][1:]))\n",
    "\n",
    "tmp = answer_info['回答创建时间'].apply(lambda x : x.split('-'))\n",
    "answer_info['回答创建时间_H'] = tmp.apply(lambda x : int(x[1::1][0][1:]))\n",
    "answer_info['回答创建时间_D'] = tmp.apply(lambda x : int(x[::2][0][1:]))\n",
    "\n",
    "data['id'] = np.arange(len(data))\n",
    "answer_info['atime'] = answer_info['回答创建时间_D'] * 24 + answer_info['回答创建时间_H']\n",
    "data['itime'] = data['邀请创建时间_D'] * 24 + data['邀请创建时间_H']\n",
    "inv = data[['id', '用户ID', 'itime']]\n",
    "ans = answer_info[['回答ID_new','问题ID','用户ID','回答创建时间_D','回答创建时间_H','atime','回答内容的单字编码序列', '回答内容的切词编码序列', '回答是否被标优', '回答是否被推荐' ,'回答是否被收入圆桌', '是否包含图片' ,'是否包含视频', '回答字数' ,'点赞数', '取赞数' ,'评论数' ,'收藏数', '感谢数' ,'举报数', '没有帮助数' ,'反对数']]\n",
    "inv.sort_values(by=['用户ID', 'itime'], inplace=True)\n",
    "ans.sort_values(by=['用户ID', 'atime'], inplace=True)\n",
    "\n",
    "inv.columns = ['id', '用户ID','time']\n",
    "ans.columns = ['回答ID','问题ID','用户ID','回答创建时间_D','回答创建时间_H', 'time','回答内容的单字编码序列', '回答内容的切词编码序列','回答是否被标优', '回答是否被推荐' ,'回答是否被收入圆桌', '是否包含图片' ,'是否包含视频', '回答字数' ,'点赞数', '取赞数' ,'评论数' ,'收藏数', '感谢数' ,'举报数', '没有帮助数' ,'反对数']\n",
    "\n",
    "tmp = pd.concat([inv, ans])\n",
    "tmp.sort_values(by=['用户ID', 'time'], inplace=True)\n",
    "\n",
    "print(\"Used time: %d s\" % (time.time()-tic))"
   ]
  },
  {
   "cell_type": "code",
   "execution_count": 5,
   "metadata": {
    "scrolled": true
   },
   "outputs": [],
   "source": [
    "def last_ans_stats(tmp):\n",
    "    last_author = '-1'\n",
    "    ts = []\n",
    "    for id ,author, ti, answer_words in tmp.values:\n",
    "        if author != last_author:\n",
    "            answer_list = []\n",
    "            if pd.isna(id):\n",
    "                answer_list.append(int(answer_words))\n",
    "            ts.append([0])\n",
    "\n",
    "        elif pd.isna(id):\n",
    "            if len(answer_list)!=0:\n",
    "                ts.append(list(answer_list))\n",
    "            else:\n",
    "                ts.append([0])\n",
    "            answer_list.append(int(answer_words))\n",
    "\n",
    "        else:\n",
    "            if len(answer_list)!=0:\n",
    "                ts.append(list(answer_list))\n",
    "            else:\n",
    "                ts.append([0])\n",
    "\n",
    "        last_author = author\n",
    "\n",
    "    tmp['answer_words'] = ts\n",
    "    return tmp['answer_words']"
   ]
  },
  {
   "cell_type": "code",
   "execution_count": 6,
   "metadata": {},
   "outputs": [
    {
     "data": {
      "application/vnd.jupyter.widget-view+json": {
       "model_id": "125dfd9ea4124480896342b8369b36d8",
       "version_major": 2,
       "version_minor": 0
      },
      "text/plain": [
       "HBox(children=(FloatProgress(value=0.0, max=5655453.0), HTML(value='')))"
      ]
     },
     "metadata": {},
     "output_type": "display_data"
    },
    {
     "name": "stdout",
     "output_type": "stream",
     "text": [
      "\n"
     ]
    },
    {
     "data": {
      "application/vnd.jupyter.widget-view+json": {
       "model_id": "b0e6613907cd46b981abede8e36372a8",
       "version_major": 2,
       "version_minor": 0
      },
      "text/plain": [
       "HBox(children=(FloatProgress(value=0.0, max=1141718.0), HTML(value='')))"
      ]
     },
     "metadata": {},
     "output_type": "display_data"
    },
    {
     "name": "stdout",
     "output_type": "stream",
     "text": [
      "\n"
     ]
    },
    {
     "data": {
      "application/vnd.jupyter.widget-view+json": {
       "model_id": "866cede34cbf45069d30c4b23a8cb366",
       "version_major": 2,
       "version_minor": 0
      },
      "text/plain": [
       "HBox(children=(FloatProgress(value=0.0, max=1141718.0), HTML(value='')))"
      ]
     },
     "metadata": {},
     "output_type": "display_data"
    },
    {
     "name": "stdout",
     "output_type": "stream",
     "text": [
      "\n",
      "Used time: 237 s\n"
     ]
    }
   ],
   "source": [
    "tic = time.time()\n",
    "tmpp = tmp[['id','用户ID','time','回答ID']]\n",
    "res = last_ans_stats(tmpp)\n",
    "tmp['回答ID'] = res\n",
    "\n",
    "tmp['回答ID_len'] = tmp['回答ID'].progress_apply(lambda x: 0 if x[0]==0 else len(x))\n",
    "\n",
    "tmp = tmp[~tmp['id'].isnull()]\n",
    "tmp.sort_values(by='id', inplace=True)\n",
    "\n",
    "embedding = np.vstack(list(answer_info['问题_SW_w2v_mean']))\n",
    "embedding = np.vstack([np.zeros((1, 64)), embedding])\n",
    "\n",
    "test = tmp['回答ID'].progress_apply(lambda x: np.mean(embedding[x], axis=0))\n",
    "\n",
    "###\n",
    "#test_tmp = pd.DataFrame()\n",
    "#test_tmp['回答ID'] = test\n",
    "#test_tmp['回答ID_len'] = tmp['回答ID_len']\n",
    "\n",
    "#def func(test,tmp):\n",
    "#    if tmp != 0:\n",
    "#        test = test / tmp\n",
    "#    return test\n",
    "\n",
    "#test = test_tmp.parallel_apply(lambda row:func(row['回答ID'],row['回答ID_len']), axis=1)\n",
    "###\n",
    "\n",
    "for i in tqdm(range(tmp.shape[0])):\n",
    "    if tmp['回答ID_len'][i] != 0:\n",
    "        test[i] = test[i] / tmp['回答ID_len'][i]\n",
    "        \n",
    "print(\"Used time: %d s\" % (time.time()-tic))"
   ]
  },
  {
   "cell_type": "code",
   "execution_count": 7,
   "metadata": {},
   "outputs": [
    {
     "name": "stdout",
     "output_type": "stream",
     "text": [
      "Used time: 3 s\n"
     ]
    }
   ],
   "source": [
    "tic = time.time()\n",
    "single_word_vectors = pd.read_table(os.path.join(DATA_PATH, 'single_word_vectors_64d.txt'), header=None)\n",
    "single_word_vectors.columns = ['单字编码序号','SW']\n",
    "tmp = single_word_vectors.SW.apply(lambda x: x.split(' '))\n",
    "tmp = pd.DataFrame(list(tmp), columns=['SW_{}'.format(i) for i in range(1,65)]) \n",
    "del single_word_vectors['SW']\n",
    "single_word_vectors = pd.concat([single_word_vectors, tmp], axis=1)\n",
    "\n",
    "question_info = question_info[['问题ID','问题标题的单字编码序列','问题描述的单字编码序列']]\n",
    "#data = data.merge(member_info, on='用户ID', how='left')\n",
    "data = data.merge(question_info, on='问题ID', how='left')\n",
    "\n",
    "print(\"Used time: %d s\" % (time.time()-tic))"
   ]
  },
  {
   "cell_type": "code",
   "execution_count": 8,
   "metadata": {},
   "outputs": [
    {
     "name": "stdout",
     "output_type": "stream",
     "text": [
      "(1829900, 64)\n",
      "(1829900, 64)\n",
      "Used time: 201 s\n"
     ]
    }
   ],
   "source": [
    "tic = time.time()\n",
    "vocabulary = dict((single_word_vectors['单字编码序号'][i], i) for i in range(len(single_word_vectors)))\n",
    "\n",
    "from sklearn.feature_extraction.text import CountVectorizer\n",
    "\n",
    "cnt_vct = CountVectorizer(token_pattern='\\\\w+\\\\d+', binary=True, lowercase=False, vocabulary=vocabulary)\n",
    "cnt_vct.fit(question_info['问题标题的单字编码序列'])\n",
    "\n",
    "A = cnt_vct.transform(question_info['问题标题的单字编码序列'])\n",
    "\n",
    "from scipy import sparse\n",
    "B = single_word_vectors.values[:, 1:].astype(float)\n",
    "B = sparse.csr_matrix(B)\n",
    "\n",
    "C = A.dot(B)\n",
    "print(C.shape)\n",
    "\n",
    "tmp = pd.DataFrame(C.toarray())\n",
    "tmp.columns = ['SW_w2v_sum_{}'.format(i) for i in range(1,65)]\n",
    "tmp['问题ID'] = question_info['问题ID']\n",
    "\n",
    "data_tiny = pd.DataFrame()\n",
    "data_tiny['问题ID'] = data['问题ID']\n",
    "data_tiny = data_tiny.merge(tmp, on='问题ID', how='left')\n",
    "del data_tiny['问题ID']\n",
    "data[list(data_tiny.columns)] = data_tiny\n",
    "\n",
    "\n",
    "vocabulary = dict((single_word_vectors['单字编码序号'][i], i) for i in range(len(single_word_vectors)))\n",
    "\n",
    "cnt_vct = CountVectorizer(token_pattern='\\\\w+\\\\d+', binary=True, lowercase=False, vocabulary=vocabulary)\n",
    "cnt_vct.fit(question_info['问题描述的单字编码序列'])\n",
    "\n",
    "A = cnt_vct.transform(question_info['问题描述的单字编码序列'])\n",
    "\n",
    "B = single_word_vectors.values[:, 1:].astype(float)\n",
    "B = sparse.csr_matrix(B)\n",
    "\n",
    "C = A.dot(B)\n",
    "print(C.shape)\n",
    "\n",
    "tmp = pd.DataFrame(C.toarray())\n",
    "tmp.columns = ['ques_describe_SW_w2v_sum_{}'.format(i) for i in range(1,65)]\n",
    "tmp['问题ID'] = question_info['问题ID']\n",
    "\n",
    "data_tiny = pd.DataFrame()\n",
    "data_tiny['问题ID'] = data['问题ID']\n",
    "data_tiny = data_tiny.merge(tmp, on='问题ID', how='left')\n",
    "del data_tiny['问题ID']\n",
    "data[list(data_tiny.columns)] = data_tiny\n",
    "\n",
    "del data_tiny,A,B,C,tmp,question_info\n",
    "gc.collect\n",
    "\n",
    "print(\"Used time: %d s\" % (time.time()-tic))"
   ]
  },
  {
   "cell_type": "code",
   "execution_count": 9,
   "metadata": {},
   "outputs": [
    {
     "data": {
      "application/vnd.jupyter.widget-view+json": {
       "model_id": "9f38688fbb324d8b8ea8661275992aca",
       "version_major": 2,
       "version_minor": 0
      },
      "text/plain": [
       "HBox(children=(FloatProgress(value=0.0, max=64.0), HTML(value='')))"
      ]
     },
     "metadata": {},
     "output_type": "display_data"
    },
    {
     "name": "stdout",
     "output_type": "stream",
     "text": [
      "\n"
     ]
    },
    {
     "data": {
      "application/vnd.jupyter.widget-view+json": {
       "model_id": "632aa4e7a83a4e0c9fb09215be8abe3a",
       "version_major": 2,
       "version_minor": 0
      },
      "text/plain": [
       "HBox(children=(FloatProgress(value=0.0, max=64.0), HTML(value='')))"
      ]
     },
     "metadata": {},
     "output_type": "display_data"
    },
    {
     "name": "stdout",
     "output_type": "stream",
     "text": [
      "\n",
      "Used time: 4 s\n"
     ]
    }
   ],
   "source": [
    "tic = time.time()\n",
    "\n",
    "data['问题描述的单字编码序列_len'] = data['问题描述的单字编码序列'].apply(lambda x: len(x.split(',')))\n",
    "data['问题标题的单字编码序列_len'] = data['问题标题的单字编码序列'].apply(lambda x: len(x.split(',')))\n",
    "\n",
    "for i in tqdm(range(1,65)):\n",
    "    data['SW_w2v_sum_{}'.format(i)] = data['SW_w2v_sum_{}'.format(i)] / data['问题标题的单字编码序列_len']\n",
    "for i in tqdm(range(1,65)):\n",
    "    data['ques_describe_SW_w2v_sum_{}'.format(i)] = data['ques_describe_SW_w2v_sum_{}'.format(i)] / data['问题描述的单字编码序列_len']\n",
    "    \n",
    "print(\"Used time: %d s\" % (time.time()-tic))"
   ]
  },
  {
   "cell_type": "code",
   "execution_count": 10,
   "metadata": {},
   "outputs": [
    {
     "data": {
      "application/vnd.jupyter.widget-view+json": {
       "model_id": "9d234b1dc4324e6f9b07ecdc3b42c3c8",
       "version_major": 2,
       "version_minor": 0
      },
      "text/plain": [
       "HBox(children=(FloatProgress(value=0.0, max=1141718.0), HTML(value='')))"
      ]
     },
     "metadata": {},
     "output_type": "display_data"
    },
    {
     "name": "stdout",
     "output_type": "stream",
     "text": [
      "\n"
     ]
    },
    {
     "data": {
      "application/vnd.jupyter.widget-view+json": {
       "model_id": "aefffc314c454338a964e13c19874adb",
       "version_major": 2,
       "version_minor": 0
      },
      "text/plain": [
       "HBox(children=(FloatProgress(value=0.0, max=1141718.0), HTML(value='')))"
      ]
     },
     "metadata": {},
     "output_type": "display_data"
    },
    {
     "name": "stdout",
     "output_type": "stream",
     "text": [
      "\n",
      "Used time: 139 s\n"
     ]
    }
   ],
   "source": [
    "tic =time.time()\n",
    "ques_topic_feat = ['SW_w2v_sum_{}'.format(i) for i in range(1,65)]\n",
    "ques_describe_feat = ['ques_describe_SW_w2v_sum_{}'.format(i) for i in range(1,65)]\n",
    "\n",
    "ques_topic = data[ques_topic_feat]\n",
    "ques_describe = data[ques_describe_feat]\n",
    "\n",
    "def cosine(u, v):\n",
    "    return np.dot(u, v) / (np.linalg.norm(u) * np.linalg.norm(v))\n",
    "\n",
    "sim = []\n",
    "for i in tqdm(range(ques_topic.shape[0])):\n",
    "    sim.append(cosine(ques_topic.values[i],test[i]))\n",
    "    \n",
    "sim_I = []\n",
    "for i in tqdm(range(ques_describe.shape[0])):\n",
    "    sim_I.append(cosine(ques_describe.values[i],test[i]))\n",
    "    \n",
    "print(\"Used time: %d s\" % (time.time()-tic))"
   ]
  },
  {
   "cell_type": "code",
   "execution_count": 11,
   "metadata": {},
   "outputs": [],
   "source": [
    "np.save(os.path.join(FEAT_PATH, 'ques_topic_answer_SW_sim.npy'), sim)\n",
    "np.save(os.path.join(FEAT_PATH, 'ques_describe_answer_SW_sim.npy'), sim_I)"
   ]
  }
 ],
 "metadata": {
  "kernelspec": {
   "display_name": "Python 3",
   "language": "python",
   "name": "python3"
  },
  "language_info": {
   "codemirror_mode": {
    "name": "ipython",
    "version": 3
   },
   "file_extension": ".py",
   "mimetype": "text/x-python",
   "name": "python",
   "nbconvert_exporter": "python",
   "pygments_lexer": "ipython3",
   "version": "3.6.7"
  }
 },
 "nbformat": 4,
 "nbformat_minor": 2
}
