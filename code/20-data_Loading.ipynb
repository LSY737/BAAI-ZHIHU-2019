{
 "cells": [
  {
   "cell_type": "code",
   "execution_count": 1,
   "metadata": {},
   "outputs": [],
   "source": [
    "import os\n",
    "import pandas as pd\n",
    "import numpy as np\n",
    "from tqdm import tqdm, tqdm_notebook, tnrange\n",
    "import gc\n",
    "from sklearn.preprocessing import LabelEncoder,OneHotEncoder\n",
    "from sklearn.model_selection import StratifiedKFold\n",
    "from sklearn.feature_extraction.text import TfidfVectorizer, CountVectorizer\n",
    "from sklearn.decomposition import TruncatedSVD\n",
    "from sklearn.preprocessing import PolynomialFeatures\n",
    "from sklearn.metrics import roc_auc_score\n",
    "from scipy.sparse import hstack,vstack\n",
    "import time\n",
    "import warnings\n",
    "warnings.filterwarnings(\"ignore\")"
   ]
  },
  {
   "cell_type": "code",
   "execution_count": 2,
   "metadata": {},
   "outputs": [
    {
     "name": "stdout",
     "output_type": "stream",
     "text": [
      "Used time: 66 s\n"
     ]
    }
   ],
   "source": [
    "tic = time.time()\n",
    "invite_info = pd.read_table('../data/data_set_0926/invite_info_0926.txt',header=None)\n",
    "invite_info.columns = ['问题ID','用户ID','邀请创建时间','邀请是否被回答']\n",
    "    \n",
    "invite_info_evaluate = pd.read_table('../data/data_set_0926/invite_info_evaluate_2_0926.txt',header=None)\n",
    "invite_info_evaluate.columns =  ['问题ID','用户ID','邀请创建时间']\n",
    "    \n",
    "member_info = pd.read_table('../data/data_set_0926/member_info_0926.txt',header=None)\n",
    "member_info.columns = ['用户ID','性别','创作关键词的编码序列','创作数量等级','创作热度等级','注册类型','注册平台','访问频率','用户二分类特征A','用户二分类特征B','用户二分类特征C','用户二分类特征D','用户二分类特征E','用户分类特征A','用户分类特征B','用户分类特征C','用户分类特征D','用户分类特征E','用户的盐值分数','用户关注的话题','用户感兴趣的话题']\n",
    "data = pd.concat([invite_info, invite_info_evaluate], axis=0).reset_index(drop=True)\n",
    "data = data.merge(member_info, on='用户ID', how='left')\n",
    "del member_info,invite_info_evaluate,invite_info\n",
    "gc.collect()\n",
    "\n",
    "print(\"Used time: %d s\" % (time.time()-tic))"
   ]
  },
  {
   "cell_type": "code",
   "execution_count": 3,
   "metadata": {},
   "outputs": [
    {
     "name": "stderr",
     "output_type": "stream",
     "text": [
      "100%|██████████| 7/7 [01:42<00:00, 14.69s/it]\n"
     ]
    }
   ],
   "source": [
    "lbl_enc_feat = []\n",
    "for feat in tqdm(['性别','访问频率','用户分类特征A', '用户分类特征B', '用户分类特征C', '用户分类特征D','用户分类特征E']):\n",
    "    data['{}_lbl_enc'.format(feat)] = LabelEncoder().fit_transform(data[feat].astype(str))\n",
    "    lbl_enc_feat.append('{}_lbl_enc'.format(feat))\n",
    "        \n",
    "useless_feat = ['创作关键词的编码序列', '创作数量等级','创作热度等级', '注册类型', '注册平台']\n",
    "data.drop(useless_feat, axis=1, inplace=True)"
   ]
  },
  {
   "cell_type": "code",
   "execution_count": 4,
   "metadata": {},
   "outputs": [],
   "source": [
    "tmp = pd.read_pickle('./features/ques_topicID_svd_30_new.pickle')#\n",
    "tmp = tmp.iloc[0:data.shape[0]]\n",
    "data[list(tmp.columns)] = tmp\n",
    "    \n",
    "tmp = pd.read_pickle('./features/user_fav_topic_svd_30_new.pickle')#\n",
    "tmp = tmp.iloc[0:data.shape[0]]\n",
    "data[list(tmp.columns)] = tmp\n",
    "    \n",
    "tmp = pd.read_pickle('./features/user_watched_topic_svd_30_new.pickle')#\n",
    "tmp = tmp.iloc[0:data.shape[0]]\n",
    "data[list(tmp.columns)] = tmp"
   ]
  },
  {
   "cell_type": "code",
   "execution_count": 5,
   "metadata": {},
   "outputs": [],
   "source": [
    "tmp = pd.read_pickle('./features/inv_ans_gap.pickle')\n",
    "tmp = tmp.reset_index(drop=True)\n",
    "data = data.reset_index(drop=True)\n",
    "data[list(tmp.columns)] = tmp"
   ]
  },
  {
   "cell_type": "code",
   "execution_count": 6,
   "metadata": {},
   "outputs": [],
   "source": [
    "tmp = pd.read_pickle('./features/prev_ans_ques_title_sim.pickle')\n",
    "tmp = tmp.reset_index(drop=True)\n",
    "data = data.reset_index(drop=True)\n",
    "data[list(tmp.columns)] = tmp"
   ]
  },
  {
   "cell_type": "code",
   "execution_count": 7,
   "metadata": {},
   "outputs": [],
   "source": [
    "tmp = pd.read_pickle('./features/strong_feat_collections.pickle')#过采样#\n",
    "tmp = tmp.iloc[0:data.shape[0]]\n",
    "data[list(tmp.columns)] = tmp"
   ]
  },
  {
   "cell_type": "code",
   "execution_count": 8,
   "metadata": {},
   "outputs": [],
   "source": [
    "tmp = pd.read_pickle('./features/last_next_expo_feat.pickle')#过采样\n",
    "tmp = tmp.iloc[0:data.shape[0]]\n",
    "data[list(tmp.columns)] = tmp"
   ]
  },
  {
   "cell_type": "code",
   "execution_count": 9,
   "metadata": {},
   "outputs": [],
   "source": [
    "tmp = pd.read_pickle('./features/len_feat.pickle')#\n",
    "data[list(tmp.columns)] = tmp"
   ]
  },
  {
   "cell_type": "code",
   "execution_count": 10,
   "metadata": {},
   "outputs": [],
   "source": [
    "tmp = pd.read_pickle('./features/user_quesIDs_svd_new.pickle')#\n",
    "tmp = tmp.iloc[0:data.shape[0]]\n",
    "data[list(tmp.columns)] = tmp\n",
    "\n",
    "tmp = pd.read_pickle('./features/ques_userIDs_svd_new.pickle')#\n",
    "tmp = tmp.iloc[0:data.shape[0]]\n",
    "data[list(tmp.columns)] = tmp"
   ]
  },
  {
   "cell_type": "code",
   "execution_count": 13,
   "metadata": {},
   "outputs": [],
   "source": [
    "tmp = pd.read_pickle('./features/invite_time_stats.pickle')#\n",
    "data[list(tmp.columns)] = tmp"
   ]
  },
  {
   "cell_type": "code",
   "execution_count": 14,
   "metadata": {},
   "outputs": [],
   "source": [
    "tmp = pd.read_pickle('./features/user_last_answers.pickle')#过采样\n",
    "tmp = tmp.iloc[0:data.shape[0]]\n",
    "data[list(tmp.columns)] = tmp"
   ]
  },
  {
   "cell_type": "code",
   "execution_count": 15,
   "metadata": {},
   "outputs": [],
   "source": [
    "tmp = pd.read_pickle('./features/user_ques_count.pickle')#\n",
    "data[list(tmp.columns)] = tmp"
   ]
  },
  {
   "cell_type": "code",
   "execution_count": 16,
   "metadata": {},
   "outputs": [],
   "source": [
    "tmp = pd.read_pickle('./features/same_topic_id_feat.pickle')#\n",
    "data[list(tmp.columns)] = tmp"
   ]
  },
  {
   "cell_type": "code",
   "execution_count": 17,
   "metadata": {},
   "outputs": [],
   "source": [
    "tmp = np.load('./features/ques_user_fav_topic_sim.npy')\n",
    "data['问题_用户感兴趣_topic_sim'] = tmp\n",
    "tmp = np.load('./features/ques_user_watch_topic_sim.npy')\n",
    "data['问题_用户关注_topic_sim'] = tmp\n",
    "tmp = np.load('./features/user_watch_fav_topic_sim.npy')\n",
    "data['用户关注_感兴趣_topic_sim'] = tmp\n",
    "tmp = np.load('./features/ques_topic_answer_SW_sim.npy')\n",
    "data['问题标题_曾经回答_SW_sim'] = tmp\n",
    "tmp = np.load('./features/ques_describe_answer_SW_sim.npy')\n",
    "data['问题描述_曾经回答_SW_sim'] = tmp\n",
    "tmp = np.load('./features/ques_topic_answer_W_sim.npy')\n",
    "data['问题标题_曾经回答_W_sim'] = tmp\n",
    "tmp = np.load('./features/ques_describe_answer_W_sim.npy')\n",
    "data['问题描述_曾经回答_W_sim'] = tmp\n",
    "tmp = np.load('./features/prev_ans_ques_topic_sim.npy')\n",
    "data['问题描述_曾经回答_Topic_sim'] = tmp"
   ]
  },
  {
   "cell_type": "code",
   "execution_count": 18,
   "metadata": {},
   "outputs": [],
   "source": [
    "tmp = pd.read_pickle('./features/answer_last_stat.pkl')\n",
    "data[list(tmp.columns)] = tmp\n",
    "tmp = pd.read_pickle('./features/answer_last_stat_I.pkl')\n",
    "data[list(tmp.columns)] = tmp"
   ]
  },
  {
   "cell_type": "code",
   "execution_count": 19,
   "metadata": {},
   "outputs": [],
   "source": [
    "tmp = pd.read_pickle('./features/pres_ans_time_stats.pkl')\n",
    "data[list(tmp.columns)] = tmp"
   ]
  },
  {
   "cell_type": "code",
   "execution_count": 20,
   "metadata": {},
   "outputs": [],
   "source": [
    "#scp -P 45170 lixiaoxiao@frp.mcurobot.com:workspace/comp_collection/Zhihu/tiny/features/lstm_enc_feat.pickle ./code/Zhihu/travis/features\n",
    "tmp = pd.read_pickle('./features/lstm_enc_feat.pickle')#\n",
    "data[list(tmp.columns)] = tmp\n",
    "\n",
    "#scp -P 45170 lixiaoxiao@frp.mcurobot.com:workspace/comp_collection/Zhihu/tiny/features/w2v_sum_nn.pkl ./code/Zhihu/travis/features\n",
    "tmp = pd.read_pickle('./features/w2v_sum_nn.pkl')##\n",
    "data[list(tmp.columns)] = tmp"
   ]
  },
  {
   "cell_type": "code",
   "execution_count": null,
   "metadata": {},
   "outputs": [],
   "source": [
    "#cchan feat\n",
    "#scp -P 51456 root@111.44.254.173:/root/code/Zhihu2/cchan/feats/inv_times_st.pkl ./code/Zhihu/travis/features\n",
    "#XRSEvxjm\n",
    "tmp = pd.read_pickle('./features/prev_topic_sims_stat.pkl')\n",
    "data[list(tmp.columns)] = tmp\n",
    "\n",
    "tmp = pd.read_pickle('./features/local_user_ques_expo.pkl')\n",
    "feat_I =['question_curr_expo','user_curr_expo']\n",
    "data[feat_I] = tmp[feat_I]\n",
    "\n",
    "tmp = pd.read_pickle('./features/inv_times_st.pkl')\n",
    "feat_II = ['prev_ans_times_min_gap', 'prev_ans_times_mean_gap', 'qtime_std','qtime_mean', 'utime_std', 'utime_mean', 'iweek', 'qlast_itime_gap','qllast_itime_gap', 'qlllast_itime_gap', 'qnext_itime_gap','qnnext_itime_gap', 'qnnnext_itime_gap', 'ulast_itime_gap','ullast_itime_gap', 'ulllast_itime_gap', 'unext_itime_gap','unnext_itime_gap', 'unnnext_itime_gap']\n",
    "data[feat_II] = tmp[feat_II]"
   ]
  },
  {
   "cell_type": "code",
   "execution_count": null,
   "metadata": {},
   "outputs": [],
   "source": [
    "tmp = pd.read_pickle('./features/ques_len_stat_feat.pkl')##\n",
    "new_test_feat = list(tmp.columns)\n",
    "data[list(tmp.columns)] = tmp"
   ]
  },
  {
   "cell_type": "code",
   "execution_count": null,
   "metadata": {},
   "outputs": [],
   "source": [
    "data.to_pickle('./data/data_all.pickle')"
   ]
  },
  {
   "cell_type": "code",
   "execution_count": null,
   "metadata": {},
   "outputs": [],
   "source": []
  }
 ],
 "metadata": {
  "kernelspec": {
   "display_name": "Python 3",
   "language": "python",
   "name": "python3"
  },
  "language_info": {
   "codemirror_mode": {
    "name": "ipython",
    "version": 3
   },
   "file_extension": ".py",
   "mimetype": "text/x-python",
   "name": "python",
   "nbconvert_exporter": "python",
   "pygments_lexer": "ipython3",
   "version": "3.6.7"
  }
 },
 "nbformat": 4,
 "nbformat_minor": 2
}
