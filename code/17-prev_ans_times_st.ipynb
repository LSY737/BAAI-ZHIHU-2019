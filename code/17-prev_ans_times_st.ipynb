{
 "cells": [
  {
   "cell_type": "code",
   "execution_count": 1,
   "metadata": {},
   "outputs": [],
   "source": [
    "import pandas as pd\n",
    "import numpy as np\n",
    "import pickle\n",
    "import gc\n",
    "import os\n",
    "import time\n",
    "import copy\n",
    "import multiprocessing as mp\n",
    "from sklearn.preprocessing import LabelEncoder\n",
    "from sklearn.model_selection import StratifiedKFold\n",
    "from sklearn.feature_extraction.text import CountVectorizer\n",
    "from tqdm import tqdm\n",
    "from scipy import sparse, spatial\n",
    "import warnings\n",
    "warnings.filterwarnings('ignore')"
   ]
  },
  {
   "cell_type": "code",
   "execution_count": 1,
   "metadata": {},
   "outputs": [],
   "source": [
    "DATA_PATH = '../data/data_set_0926/'\n",
    "FEAT_PATH = './features/'"
   ]
  },
  {
   "cell_type": "code",
   "execution_count": 2,
   "metadata": {},
   "outputs": [
    {
     "name": "stdout",
     "output_type": "stream",
     "text": [
      "Used time: 90 s\n"
     ]
    }
   ],
   "source": [
    "tic = time.time()\n",
    "invite_info = pd.read_csv(os.path.join(DATA_PATH, 'invite_info_0926.txt'), names=['qid', 'author_id', 'itime', 'label'], sep='\\t')\n",
    "invite_info_evaluate = pd.read_csv(os.path.join(DATA_PATH, 'invite_info_evaluate_2_0926.txt'), names=['qid', 'author_id', 'itime'], sep='\\t')\n",
    "\n",
    "answer_info = pd.read_csv(os.path.join(DATA_PATH, 'answer_info_0926.txt'), names=['aid', 'qid', 'author_id', 'atime', 'content_sw', 'content_w', 'excellent', 'recommend', 'round_table', 'figure', 'video', 'num_word', 'num_like', 'num_unlike', 'num_comment','num_favor', 'num_thank', 'num_report', 'num_nohelp', 'num_oppose'], sep='\\t')\n",
    "del answer_info['content_sw'], answer_info['content_w']\n",
    "\n",
    "data = pd.concat([invite_info, invite_info_evaluate]).reset_index(drop=True)\n",
    "\n",
    "print(\"Used time: %d s\" % (time.time()-tic))"
   ]
  },
  {
   "cell_type": "code",
   "execution_count": 3,
   "metadata": {},
   "outputs": [
    {
     "name": "stdout",
     "output_type": "stream",
     "text": [
      "Used time: 75 s\n"
     ]
    }
   ],
   "source": [
    "tic = time.time()\n",
    "tmp = data['itime'].apply(lambda x : x.split('-'))\n",
    "data['invite_hour'] = tmp.apply(lambda x : int(x[1::1][0][1:]))\n",
    "data['invite_day'] = tmp.apply(lambda x : int(x[::2][0][1:]))\n",
    "\n",
    "tmp = answer_info['atime'].apply(lambda x : x.split('-'))\n",
    "answer_info['answer_hour'] = tmp.apply(lambda x : int(x[1::1][0][1:]))\n",
    "answer_info['answer_day'] = tmp.apply(lambda x : int(x[::2][0][1:]))\n",
    "\n",
    "data['invite_day'] = data['invite_day'].astype(int)\n",
    "data['invite_hour'] = data['invite_hour'].astype(int)\n",
    "answer_info['answer_day'] = answer_info['answer_day'].astype(int)\n",
    "answer_info['answer_hour'] = answer_info['answer_hour'].astype(int)\n",
    "data['id'] = np.arange(len(data))\n",
    "answer_info['atime'] = answer_info['answer_day'] * 24 + answer_info['answer_hour']\n",
    "data['itime'] = data['invite_day'] * 24 + data['invite_hour']\n",
    "inv = data[['id', 'author_id', 'itime']]\n",
    "ans = answer_info[['author_id', 'atime']]\n",
    "inv.sort_values(by=['author_id', 'itime'], inplace=True)\n",
    "ans.sort_values(by=['author_id', 'atime'], inplace=True)\n",
    "\n",
    "inv.columns = ['id', 'author_id','time']\n",
    "ans.columns = ['author_id', 'time']\n",
    "\n",
    "print(\"Used time: %d s\" % (time.time()-tic))"
   ]
  },
  {
   "cell_type": "code",
   "execution_count": 4,
   "metadata": {},
   "outputs": [
    {
     "name": "stderr",
     "output_type": "stream",
     "text": [
      "100%|██████████| 15144615/15144615 [00:45<00:00, 329766.18it/s]\n"
     ]
    },
    {
     "name": "stdout",
     "output_type": "stream",
     "text": [
      "NAN ratio: 0.295552\n",
      "Used time: 100 s\n"
     ]
    }
   ],
   "source": [
    "tic = time.time()\n",
    "tmp = pd.concat([inv, ans])\n",
    "tmp.sort_values(by=['author_id', 'time'], inplace=True)\n",
    "tmp = tmp[['author_id', 'id', 'time']]\n",
    "\n",
    "last_id = np.nan\n",
    "last_author = '-1'\n",
    "ts = []\n",
    "t = np.nan\n",
    "for author, id, ti in tqdm(tmp.values):\n",
    "    if author != last_author:\n",
    "        if pd.isna(id):\n",
    "            t = ti\n",
    "        else:\n",
    "            t = np.nan\n",
    "        ts.append(np.nan)\n",
    "    elif pd.isna(id):\n",
    "        t = ti\n",
    "        ts.append(np.nan)\n",
    "    else:\n",
    "        ts.append(t)\n",
    "    last_author = author\n",
    "\n",
    "tmp['last_time'] = ts\n",
    "tmp = tmp[~tmp['id'].isnull()]\n",
    "tmp.sort_values(by='id', inplace=True)\n",
    "tmp['author_time'] = tmp['author_id'] + '_' + tmp['last_time'].fillna(-1).astype(int).astype(str)\n",
    "\n",
    "print('NAN ratio: %f' % (tmp['last_time'].isnull().sum() / len(tmp)))\n",
    "tmp.to_pickle(os.path.join(FEAT_PATH, 'inv_last_answer_time.pkl'))\n",
    "\n",
    "print(\"Used time: %d s\" % (time.time()-tic))"
   ]
  },
  {
   "cell_type": "code",
   "execution_count": null,
   "metadata": {},
   "outputs": [
    {
     "name": "stdout",
     "output_type": "stream",
     "text": [
      "Used time: 33 s\n"
     ]
    }
   ],
   "source": [
    "tic = time.time()\n",
    "answer_info['answer_day'] = answer_info['answer_day'].astype(int)\n",
    "answer_info['answer_hour'] = answer_info['answer_hour'].astype(int)\n",
    "answer_info['author_time'] = answer_info['author_id'] + '_' + (answer_info['answer_day'] * 24 + answer_info['answer_hour']).astype(int).astype(str)\n",
    "answer_info['answer_time'] = answer_info['answer_day'] * 24 + answer_info['answer_hour']\n",
    "answer_info.sort_values(by=['author_id', 'author_time'],inplace=True)\n",
    "answer_info = answer_info[['author_id', 'author_time', 'answer_time']].reset_index(drop=True)\n",
    "\n",
    "print(\"Used time: %d s\" % (time.time()-tic))"
   ]
  },
  {
   "cell_type": "code",
   "execution_count": null,
   "metadata": {},
   "outputs": [
    {
     "name": "stderr",
     "output_type": "stream",
     "text": [
      "4513735it [10:53, 6902.82it/s] \n",
      "100%|██████████| 3406218/3406218 [04:20<00:00, 13057.19it/s]\n"
     ]
    }
   ],
   "source": [
    "tic = time.time()\n",
    "prev_ans_times = []\n",
    "times = []\n",
    "last = None\n",
    "for _, row in tqdm(answer_info.iterrows()):\n",
    "    a = row['author_id']\n",
    "    t = row['answer_time']\n",
    "    if last is None or last != a:\n",
    "        times = [t]\n",
    "    else:\n",
    "        times.append(t)\n",
    "    prev_ans_times.append(list(times))\n",
    "    last = a\n",
    "\n",
    "answer_info['prev_ans_times'] = prev_ans_times\n",
    "answer_info.drop_duplicates(subset='author_time', keep='last', inplace=True)\n",
    "\n",
    "min_ = []\n",
    "mean_ = []\n",
    "std_ = []\n",
    "for var in tqdm(answer_info['prev_ans_times']):\n",
    "    min_.append(np.min(var))\n",
    "    mean_.append(np.mean(var))\n",
    "    std_.append(np.std(var))    \n",
    "\n",
    "tmp = answer_info[['author_time']]\n",
    "tmp['prev_ans_times_min'] = min_\n",
    "tmp['prev_ans_times_mean'] = mean_\n",
    "tmp['prev_ans_times_std'] = std_\n",
    "\n",
    "inv_last_answer_time = pd.read_pickle(os.path.join(FEAT_PATH, 'inv_last_answer_time.pkl')).reset_index(drop=True)\n",
    "\n",
    "tmp = inv_last_answer_time.merge(tmp, 'left', 'author_time')\n",
    "tmp = tmp[['prev_ans_times_' + st for st in ['min', 'mean', 'std']]]\n",
    "print(\"Used time: %d s\" % (time.time()-tic))"
   ]
  },
  {
   "cell_type": "code",
   "execution_count": null,
   "metadata": {},
   "outputs": [],
   "source": [
    "tmp.to_pickle(os.path.join(FEAT_PATH, 'prev_ans_times_st.pkl'))\n",
    "print(\"Feature Saved, shape:\",tmp.shape)"
   ]
  },
  {
   "cell_type": "code",
   "execution_count": null,
   "metadata": {},
   "outputs": [],
   "source": []
  }
 ],
 "metadata": {
  "kernelspec": {
   "display_name": "Python 3",
   "language": "python",
   "name": "python3"
  },
  "language_info": {
   "codemirror_mode": {
    "name": "ipython",
    "version": 3
   },
   "file_extension": ".py",
   "mimetype": "text/x-python",
   "name": "python",
   "nbconvert_exporter": "python",
   "pygments_lexer": "ipython3",
   "version": "3.6.7"
  }
 },
 "nbformat": 4,
 "nbformat_minor": 2
}
