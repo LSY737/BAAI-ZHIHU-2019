{
 "cells": [
  {
   "cell_type": "code",
   "execution_count": 2,
   "metadata": {},
   "outputs": [],
   "source": [
    "import pandas as pd\n",
    "import numpy as np\n",
    "import re\n",
    "import os\n",
    "import time\n",
    "from sklearn.preprocessing import LabelEncoder\n",
    "from sklearn.feature_extraction.text import TfidfVectorizer\n",
    "from sklearn.decomposition import TruncatedSVD\n",
    "import warnings\n",
    "warnings.filterwarnings(\"ignore\")"
   ]
  },
  {
   "cell_type": "code",
   "execution_count": 1,
   "metadata": {},
   "outputs": [],
   "source": [
    "DATA_PATH = '../data/data_set_0926/'\n",
    "FEAT_PATH = './features/'"
   ]
  },
  {
   "cell_type": "code",
   "execution_count": 3,
   "metadata": {},
   "outputs": [
    {
     "name": "stdout",
     "output_type": "stream",
     "text": [
      "Used time: 106 s\n"
     ]
    }
   ],
   "source": [
    "tic = time.time()\n",
    "invite_info = pd.read_table(os.path.join(DATA_PATH, 'invite_info_0926.txt'), header=None)\n",
    "invite_info.columns = ['问题ID','用户ID','邀请创建时间','邀请是否被回答']\n",
    "    \n",
    "invite_info_evaluate_A = pd.read_table(os.path.join(DATA_PATH, 'invite_info_evaluate_1_0926.txt'), header=None)\n",
    "invite_info_evaluate_A.columns =  ['问题ID','用户ID','邀请创建时间']\n",
    "\n",
    "invite_info_evaluate_B = pd.read_table(os.path.join(DATA_PATH, 'invite_info_evaluate_2_0926.txt'), header=None)\n",
    "invite_info_evaluate_B.columns =  ['问题ID','用户ID','邀请创建时间']\n",
    "\n",
    "question_info = pd.read_table(os.path.join(DATA_PATH, 'question_info_0926.txt', header=None)\n",
    "question_info.columns = ['问题ID',  '问题创建时间' , '问题标题的单字编码序列' , '问题标题的切词编码序列' , '问题描述的单字编码序列',  '问题描述的词编码序列' , '问题绑定的话题ID']\n",
    "\n",
    "member_info = pd.read_table(os.path.join(DATA_PATH, 'member_info_0926.txt', header=None)\n",
    "member_info.columns = ['用户ID','性别','创作关键词的编码序列','创作数量等级','创作热度等级','注册类型','注册平台','访问频率','用户二分类特征A','用户二分类特征B','用户二分类特征C','用户二分类特征D','用户二分类特征E','用户分类特征A','用户分类特征B','用户分类特征C','用户分类特征D','用户分类特征E','用户的盐值分数','用户关注的话题','用户感兴趣的话题']\n",
    "\n",
    "oversample = True\n",
    "\n",
    "if oversample:\n",
    "    data = pd.concat([invite_info, invite_info_evaluate_B, invite_info_evaluate_A], axis=0)\n",
    "else:\n",
    "    data = pd.concat([invite_info, invite_info_evaluate_B], axis=0)\n",
    "                            \n",
    "data = data.merge(member_info, on='用户ID', how='left').merge(question_info, on='问题ID', how='left')\n",
    "\n",
    "print(\"Used time: %d s\" % (time.time()-tic))"
   ]
  },
  {
   "cell_type": "code",
   "execution_count": 4,
   "metadata": {},
   "outputs": [
    {
     "name": "stdout",
     "output_type": "stream",
     "text": [
      "Used time: 268 s\n"
     ]
    }
   ],
   "source": [
    "tic = time.time()\n",
    "tmp = data.groupby(['问题ID'])['用户ID'].count().reset_index()\n",
    "tmp.columns =['问题ID','问题邀请用户_counts']\n",
    "data = data.merge(tmp, on='问题ID', how='left')\n",
    "\n",
    "tmp = data.groupby(['用户ID'])['问题ID'].count().reset_index()\n",
    "tmp.columns =['用户ID','用户被邀请问题_counts']\n",
    "data = data.merge(tmp, on='用户ID', how='left')\n",
    "tmp = data.groupby(['问题ID'])['用户的盐值分数'].agg({'用户的盐值分数_mean':'mean','用户的盐值分数_max':'max','用户的盐值分数_min':'min','用户的盐值分数_std':'std'}).reset_index()\n",
    "data = data.merge(tmp, on='问题ID', how='left')\n",
    "    \n",
    "tmp = data['邀请创建时间'].apply(lambda x : x.split('-'))\n",
    "data['邀请创建时间_H'] = tmp.apply(lambda x : int(x[1::1][0][1:]))\n",
    "data['邀请创建时间_D'] = tmp.apply(lambda x : int(x[::2][0][1:]))\n",
    "    \n",
    "tmp = data['问题创建时间'].apply(lambda x : x.split('-'))\n",
    "data['问题创建时间_H'] = tmp.apply(lambda x : int(x[1::1][0][1:]))\n",
    "data['问题创建时间_D'] = tmp.apply(lambda x : int(x[::2][0][1:]))\n",
    "    \n",
    "data['邀请问题创建时间_gap'] = (data['邀请创建时间_D']*24+data['邀请创建时间_H']) - (data['问题创建时间_D']*24 + data['问题创建时间_H'])\n",
    "tmp = data[['问题邀请用户_counts','用户被邀请问题_counts','用户的盐值分数_mean','用户的盐值分数_max','用户的盐值分数_min','用户的盐值分数_std','邀请问题创建时间_gap','问题创建时间_H','问题创建时间_D','邀请创建时间_D','邀请创建时间_H']]\n",
    "\n",
    "print(\"Used time: %d s\" % (time.time()-tic))"
   ]
  },
  {
   "cell_type": "code",
   "execution_count": 6,
   "metadata": {},
   "outputs": [
    {
     "name": "stdout",
     "output_type": "stream",
     "text": [
      "Feature Saved, shape: (11772563, 11)\n"
     ]
    }
   ],
   "source": [
    "tmp.to_pickle(os.path.join(FEAT_PATH, 'strong_feat_collections.pickle'))\n",
    "print(\"Feature Saved, shape:\",tmp.shape)"
   ]
  },
  {
   "cell_type": "code",
   "execution_count": null,
   "metadata": {},
   "outputs": [],
   "source": []
  }
 ],
 "metadata": {
  "kernelspec": {
   "display_name": "Python 3",
   "language": "python",
   "name": "python3"
  },
  "language_info": {
   "codemirror_mode": {
    "name": "ipython",
    "version": 3
   },
   "file_extension": ".py",
   "mimetype": "text/x-python",
   "name": "python",
   "nbconvert_exporter": "python",
   "pygments_lexer": "ipython3",
   "version": "3.6.7"
  }
 },
 "nbformat": 4,
 "nbformat_minor": 2
}
