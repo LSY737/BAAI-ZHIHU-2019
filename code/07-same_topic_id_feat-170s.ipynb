{
 "cells": [
  {
   "cell_type": "code",
   "execution_count": 1,
   "metadata": {},
   "outputs": [],
   "source": [
    "import pandas as pd\n",
    "import numpy as np\n",
    "import re\n",
    "import gc\n",
    "import os\n",
    "import time\n",
    "from tqdm import tqdm\n",
    "import multiprocessing as mp\n",
    "import warnings\n",
    "warnings.filterwarnings(\"ignore\")"
   ]
  },
  {
   "cell_type": "code",
   "execution_count": 1,
   "metadata": {},
   "outputs": [],
   "source": [
    "DATA_PATH = '../data/data_set_0926/'\n",
    "FEAT_PATH = './features/'"
   ]
  },
  {
   "cell_type": "code",
   "execution_count": 2,
   "metadata": {},
   "outputs": [
    {
     "name": "stdout",
     "output_type": "stream",
     "text": [
      "Used time: 169 s\n"
     ]
    }
   ],
   "source": [
    "tic = time.time()\n",
    "invite_info = pd.read_table(os.path.join(DATA_PATH, 'invite_info_0926.txt'), header=None)\n",
    "invite_info.columns = ['问题ID','用户ID','邀请创建时间','邀请是否被回答']\n",
    "    \n",
    "invite_info_evaluate_A = pd.read_table(os.path.join(DATA_PATH, 'invite_info_evaluate_1_0926.txt'), header=None)\n",
    "invite_info_evaluate_A.columns =  ['问题ID','用户ID','邀请创建时间']\n",
    "\n",
    "invite_info_evaluate_B = pd.read_table(os.path.join(DATA_PATH, 'invite_info_evaluate_2_0926.txt'), header=None)\n",
    "invite_info_evaluate_B.columns =  ['问题ID','用户ID','邀请创建时间']\n",
    "    \n",
    "question_info = pd.read_table(os.path.join(DATA_PATH, 'question_info_0926.txt', header=None)\n",
    "question_info.columns = ['问题ID',  '问题创建时间' , '问题标题的单字编码序列' , '问题标题的切词编码序列' , '问题描述的单字编码序列',  '问题描述的词编码序列' , '问题绑定的话题ID']\n",
    "\n",
    "member_info = pd.read_table(os.path.join(DATA_PATH, 'member_info_0926.txt', header=None)\n",
    "member_info.columns = ['用户ID','性别','创作关键词的编码序列','创作数量等级','创作热度等级','注册类型','注册平台','访问频率','用户二分类特征A','用户二分类特征B','用户二分类特征C','用户二分类特征D','用户二分类特征E','用户分类特征A','用户分类特征B','用户分类特征C','用户分类特征D','用户分类特征E','用户的盐值分数','用户关注的话题','用户感兴趣的话题']\n",
    "\n",
    "tmp = member_info['用户感兴趣的话题'].apply(lambda x: re.split('[,:]',x))\n",
    "member_info['用户感兴趣的话题_T'] = tmp.apply(lambda x : ','.join(x[::2]))\n",
    "member_info['用户感兴趣的话题_score'] = tmp.apply(lambda x : ','.join(x[1::2]))\n",
    "\n",
    "oversample = False\n",
    "\n",
    "if oversample:\n",
    "    data = pd.concat([invite_info, invite_info_evaluate_B, invite_info_evaluate_A], axis=0)\n",
    "else:\n",
    "    data = pd.concat([invite_info, invite_info_evaluate_B], axis=0)\n",
    "                            \n",
    "data = data.merge(member_info, on='用户ID', how='left').merge(question_info, on='问题ID', how='left')\n",
    "\n",
    "print(\"Used time: %d s\" % (time.time()-tic))"
   ]
  },
  {
   "cell_type": "code",
   "execution_count": null,
   "metadata": {},
   "outputs": [],
   "source": [
    "tic = time.time()\n",
    "\n",
    "tmp = data[['问题绑定的话题ID','用户关注的话题','用户感兴趣的话题_T']]\n",
    "    \n",
    "def split_df(df, n):\n",
    "    chunk_size = int(np.ceil(len(df) / n))\n",
    "    return [df[i*chunk_size:(i+1)*chunk_size] for i in range(n)]\n",
    "    \n",
    "def process_I(df):\n",
    "    return df.apply(lambda row: len(set(row['问题绑定的话题ID'].split(',')) & set(row['用户关注的话题'].split(','))), axis=1)\n",
    "\n",
    "def process_II(df):\n",
    "    return df.apply(lambda row: len(set(row['问题绑定的话题ID'].split(',')) & set(row['用户感兴趣的话题_T'].split(','))), axis=1)\n",
    "    \n",
    "with mp.Pool() as pool:\n",
    "      \n",
    "    chunk_list = split_df(tmp[['问题绑定的话题ID','用户关注的话题','用户感兴趣的话题_T']], 100)\n",
    "    ret = pool.map(process_I, chunk_list)\n",
    "\n",
    "res = pd.DataFrame()\n",
    "for i in tqdm(range(100)):\n",
    "    res = pd.concat([res,ret[i]],axis=0)\n",
    "tmp['用户问题话题相同个数']=res\n",
    "\n",
    "with mp.Pool() as pool:\n",
    "    ret = pool.map(process_II, chunk_list)\n",
    "\n",
    "res = pd.DataFrame()\n",
    "for i in tqdm(range(100)):\n",
    "    res = pd.concat([res,ret[i]],axis=0)\n",
    "tmp['用户感兴趣问题话题相同个数']=res\n",
    "\n",
    "print(\"Used time: %d s\" % (time.time()-tic))"
   ]
  },
  {
   "cell_type": "code",
   "execution_count": null,
   "metadata": {},
   "outputs": [],
   "source": [
    "tmp[['用户问题话题相同个数','用户感兴趣问题话题相同个数']].to_pickle(os.path.join(DATA_PATH, 'same_topic_id_feat.pickle'))\n",
    "print(\"Feature Saved, shape:\",tmp[['用户问题话题相同个数','用户感兴趣问题话题相同个数']].shape)"
   ]
  },
  {
   "cell_type": "code",
   "execution_count": null,
   "metadata": {},
   "outputs": [],
   "source": []
  }
 ],
 "metadata": {
  "kernelspec": {
   "display_name": "Python 3",
   "language": "python",
   "name": "python3"
  },
  "language_info": {
   "codemirror_mode": {
    "name": "ipython",
    "version": 3
   },
   "file_extension": ".py",
   "mimetype": "text/x-python",
   "name": "python",
   "nbconvert_exporter": "python",
   "pygments_lexer": "ipython3",
   "version": "3.6.7"
  }
 },
 "nbformat": 4,
 "nbformat_minor": 2
}
