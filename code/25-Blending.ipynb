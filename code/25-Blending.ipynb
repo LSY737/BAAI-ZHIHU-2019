{
 "cells": [
  {
   "cell_type": "code",
   "execution_count": 1,
   "metadata": {},
   "outputs": [],
   "source": [
    "import numpy as np\n",
    "import pandas as pd\n",
    "import seaborn as sns\n",
    "import matplotlib.pyplot as plt"
   ]
  },
  {
   "cell_type": "code",
   "execution_count": 11,
   "metadata": {},
   "outputs": [],
   "source": [
    "left = [[2,1]]\n",
    "right = [[3]]\n",
    "res = []\n",
    "for i in right+left:\n",
    "    res.append([1] +i)"
   ]
  },
  {
   "cell_type": "code",
   "execution_count": 12,
   "metadata": {},
   "outputs": [
    {
     "data": {
      "text/plain": [
       "[[1, 3], [1, 2, 1]]"
      ]
     },
     "execution_count": 12,
     "metadata": {},
     "output_type": "execute_result"
    }
   ],
   "source": [
    "res"
   ]
  },
  {
   "cell_type": "markdown",
   "metadata": {},
   "source": [
    "# Blend"
   ]
  },
  {
   "cell_type": "code",
   "execution_count": 2,
   "metadata": {},
   "outputs": [],
   "source": [
    "result1 = pd.read_table('./out/result_ctb.txt',header=None)\n",
    "result1.columns = ['a','b','c','d']\n",
    "result2 = pd.read_table('./out/result_xgb.txt',header=None)\n",
    "result2.columns = ['a','b','c','d']\n",
    "result3 = pd.read_table('./out/result_lgb.txt',header=None)\n",
    "result3.columns = ['a','b','c','d']\n",
    "result4 = pd.read_table('./out/result_dnn.txt',header=None)\n",
    "result4.columns = ['a','b','c','d']"
   ]
  },
  {
   "cell_type": "code",
   "execution_count": 3,
   "metadata": {},
   "outputs": [],
   "source": [
    "# preds = 0.5*result1.d + 0.2*result2.d + 0.2*result3.d + 0.1*result4.d\n",
    "preds = (0.5*result1.d + 0.2*result2.d + 0.2*result3.d) / 0.9 * 0.8 + 0.2*result4.d"
   ]
  },
  {
   "cell_type": "code",
   "execution_count": 4,
   "metadata": {},
   "outputs": [],
   "source": [
    "invite_info_evaluate = pd.read_table('../data/data_set_0926/invite_info_evaluate_1_0926.txt',header=None)\n",
    "invite_info_evaluate.columns =  ['问题ID','用户ID','邀请创建时间']"
   ]
  },
  {
   "cell_type": "code",
   "execution_count": 5,
   "metadata": {},
   "outputs": [
    {
     "name": "stdout",
     "output_type": "stream",
     "text": [
      "Blend result saved, shape: (1141683, 4)\n"
     ]
    }
   ],
   "source": [
    "result = invite_info_evaluate[['问题ID','用户ID','邀请创建时间']]\n",
    "result['result'] = preds#[:, 1] / 5\n",
    "result.to_csv('./out/result_blend.txt', sep='\\t', index=False, header=False)\n",
    "print(\"Blend result saved, shape:\",result.shape)"
   ]
  },
  {
   "cell_type": "markdown",
   "metadata": {},
   "source": [
    "# Big Blend"
   ]
  },
  {
   "cell_type": "code",
   "execution_count": 2,
   "metadata": {},
   "outputs": [],
   "source": [
    "result1 = pd.read_table('./out/result_blend.txt',header=None)\n",
    "result1.columns = ['a','b','c','d']\n",
    "result2 = pd.read_table('./out/blending4.txt',header=None)\n",
    "result2.columns = ['a','b','c','d']"
   ]
  },
  {
   "cell_type": "code",
   "execution_count": 3,
   "metadata": {},
   "outputs": [],
   "source": [
    "preds = 0.7*result1.d + 0.3*result2.d"
   ]
  },
  {
   "cell_type": "code",
   "execution_count": 5,
   "metadata": {},
   "outputs": [],
   "source": [
    "result = invite_info_evaluate[['问题ID','用户ID','邀请创建时间']]\n",
    "result['result'] = preds#[:, 1] / 5\n",
    "result.to_csv('./out/result_big_blend.txt', sep='\\t', index=False, header=False)\n",
    "print(\"Big blend result saved, shape:\",result.shape)"
   ]
  },
  {
   "cell_type": "markdown",
   "metadata": {},
   "source": [
    "# Result Heatmap"
   ]
  },
  {
   "cell_type": "code",
   "execution_count": 8,
   "metadata": {},
   "outputs": [
    {
     "data": {
      "text/plain": [
       "Text(0.5, 48.29999999999998, 'model')"
      ]
     },
     "execution_count": 8,
     "metadata": {},
     "output_type": "execute_result"
    },
    {
     "data": {
      "image/png": "[encoded data removed]",
      "text/plain": [
       "<Figure size 360x360 with 2 Axes>"
      ]
     },
     "metadata": {
      "needs_background": "light"
     },
     "output_type": "display_data"
    }
   ],
   "source": [
    "te = pd.DataFrame()\n",
    "te['ctb'] = result1.d\n",
    "te['xgb'] = result2.d\n",
    "te['lgb'] = result3.d\n",
    "te['dnn'] = result4.d\n",
    "\n",
    "fig, ax = plt.subplots(figsize = (5,5))\n",
    "dfData = te.corr()\n",
    "sns.heatmap(dfData, annot=True, vmax=1,vmin = 0, xticklabels= True, yticklabels= True, square=True, cmap=\"YlGnBu\")\n",
    "\n",
    "ax.set_title('heatmap', fontsize = 18)\n",
    "ax.set_ylabel('model', fontsize = 18)\n",
    "ax.set_xlabel('model', fontsize = 18)"
   ]
  },
  {
   "cell_type": "code",
   "execution_count": null,
   "metadata": {},
   "outputs": [],
   "source": []
  }
 ],
 "metadata": {
  "kernelspec": {
   "display_name": "Python 3",
   "language": "python",
   "name": "python3"
  },
  "language_info": {
   "codemirror_mode": {
    "name": "ipython",
    "version": 3
   },
   "file_extension": ".py",
   "mimetype": "text/x-python",
   "name": "python",
   "nbconvert_exporter": "python",
   "pygments_lexer": "ipython3",
   "version": "3.6.7"
  }
 },
 "nbformat": 4,
 "nbformat_minor": 2
}
