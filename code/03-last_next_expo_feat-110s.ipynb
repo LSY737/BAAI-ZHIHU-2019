{
 "cells": [
  {
   "cell_type": "code",
   "execution_count": 1,
   "metadata": {},
   "outputs": [],
   "source": [
    "import pandas as pd\n",
    "import numpy as np\n",
    "import re\n",
    "import os\n",
    "import time\n",
    "from sklearn.preprocessing import LabelEncoder\n",
    "from sklearn.feature_extraction.text import TfidfVectorizer\n",
    "from sklearn.decomposition import TruncatedSVD\n",
    "import warnings\n",
    "warnings.filterwarnings(\"ignore\")"
   ]
  },
  {
   "cell_type": "code",
   "execution_count": 1,
   "metadata": {},
   "outputs": [],
   "source": [
    "DATA_PATH = '../data/data_set_0926/'\n",
    "FEAT_PATH = './features/'"
   ]
  },
  {
   "cell_type": "code",
   "execution_count": 2,
   "metadata": {},
   "outputs": [
    {
     "name": "stdout",
     "output_type": "stream",
     "text": [
      "Used time: 15 s\n"
     ]
    }
   ],
   "source": [
    "tic = time.time()\n",
    "invite_info = pd.read_table(os.path.join(DATA_PATH, 'invite_info_0926.txt'), header=None)\n",
    "invite_info.columns = ['问题ID','用户ID','邀请创建时间','邀请是否被回答']\n",
    "    \n",
    "invite_info_evaluate_A = pd.read_table(os.path.join(DATA_PATH, 'invite_info_evaluate_1_0926.txt'), header=None)\n",
    "invite_info_evaluate_A.columns =  ['问题ID','用户ID','邀请创建时间']\n",
    "\n",
    "invite_info_evaluate_B = pd.read_table(os.path.join(DATA_PATH, 'invite_info_evaluate_2_0926.txt'), header=None)\n",
    "invite_info_evaluate_B.columns =  ['问题ID','用户ID','邀请创建时间']\n",
    "\n",
    "oversample = True\n",
    "\n",
    "if oversample:\n",
    "    data = pd.concat([invite_info, invite_info_evaluate_B, invite_info_evaluate_A], axis=0)\n",
    "else:\n",
    "    data = pd.concat([invite_info, invite_info_evaluate_B], axis=0)\n",
    "    \n",
    "data = data.merge(question_info, on='问题ID', how='left')\n",
    "print(\"Used time: %d s\" % (time.time()-tic))"
   ]
  },
  {
   "cell_type": "code",
   "execution_count": 3,
   "metadata": {},
   "outputs": [
    {
     "name": "stdout",
     "output_type": "stream",
     "text": [
      "Used time: 145 s\n"
     ]
    }
   ],
   "source": [
    "tic = time.time()\n",
    "tmp = data['邀请创建时间'].apply(lambda x : x.split('-'))\n",
    "data['邀请创建时间_H'] = tmp.apply(lambda x : int(x[1::1][0][1:]))\n",
    "data['邀请创建时间_D'] = tmp.apply(lambda x : int(x[::2][0][1:]))\n",
    "data['邀请创建时间_DH'] = data['邀请创建时间_D']*24 + data['邀请创建时间_H']\n",
    "    \n",
    "tmp = data[['用户ID', '邀请创建时间_DH']].groupby(['用户ID', '邀请创建时间_DH']).size().reset_index()\n",
    "tmp.columns = ['用户ID', '邀请创建时间_DH', '用户ID_expo']\n",
    "tmp = tmp.sort_values(by=['用户ID','邀请创建时间_DH'])\n",
    "tmp['用户ID_last_expo'] = tmp.groupby('用户ID')['用户ID_expo'].cumsum() - tmp['用户ID_expo']\n",
    "tmp = tmp.sort_values(by=['用户ID','邀请创建时间_DH'], ascending=False)\n",
    "tmp['用户ID_next_expo'] = tmp.groupby('用户ID')['用户ID_expo'].cumsum() - tmp['用户ID_expo']\n",
    "data = data.merge(tmp, 'left', ['用户ID','邀请创建时间_DH'])    \n",
    "    \n",
    "tmp = data[['问题ID', '邀请创建时间_DH']].groupby(['问题ID', '邀请创建时间_DH']).size().reset_index()\n",
    "tmp.columns = ['问题ID', '邀请创建时间_DH', '问题ID_expo']\n",
    "tmp = tmp.sort_values(by=['问题ID','邀请创建时间_DH'])\n",
    "tmp['问题ID_last_expo'] = tmp.groupby('问题ID')['问题ID_expo'].cumsum() - tmp['问题ID_expo']\n",
    "tmp = tmp.sort_values(by=['问题ID','邀请创建时间_DH'], ascending=False)\n",
    "tmp['问题ID_next_expo'] = tmp.groupby('问题ID')['问题ID_expo'].cumsum() - tmp['问题ID_expo']\n",
    "data = data.merge(tmp, 'left', ['问题ID','邀请创建时间_DH'])\n",
    "    \n",
    "tmp = data[['用户ID_last_expo','用户ID_next_expo','问题ID_last_expo','问题ID_next_expo']]\n",
    "print(\"Used time: %d s\" % (time.time()-tic))"
   ]
  },
  {
   "cell_type": "code",
   "execution_count": 4,
   "metadata": {},
   "outputs": [
    {
     "name": "stdout",
     "output_type": "stream",
     "text": [
      "Feature Saved, shape: (11772563, 4)\n"
     ]
    }
   ],
   "source": [
    "tmp.to_pickle(os.path.join(FEAT_PATH, 'last_next_expo_feat.pickle'))\n",
    "print(\"Feature Saved, shape:\",tmp.shape)"
   ]
  },
  {
   "cell_type": "code",
   "execution_count": null,
   "metadata": {},
   "outputs": [],
   "source": []
  }
 ],
 "metadata": {
  "kernelspec": {
   "display_name": "Python 3",
   "language": "python",
   "name": "python3"
  },
  "language_info": {
   "codemirror_mode": {
    "name": "ipython",
    "version": 3
   },
   "file_extension": ".py",
   "mimetype": "text/x-python",
   "name": "python",
   "nbconvert_exporter": "python",
   "pygments_lexer": "ipython3",
   "version": "3.6.7"
  }
 },
 "nbformat": 4,
 "nbformat_minor": 2
}
