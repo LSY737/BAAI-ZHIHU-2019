{
 "cells": [
  {
   "cell_type": "code",
   "execution_count": 1,
   "metadata": {},
   "outputs": [],
   "source": [
    "import pandas as pd\n",
    "import numpy as np\n",
    "import re\n",
    "import os\n",
    "import time\n",
    "from sklearn.preprocessing import LabelEncoder\n",
    "from sklearn.feature_extraction.text import TfidfVectorizer\n",
    "from sklearn.decomposition import TruncatedSVD\n",
    "import warnings\n",
    "warnings.filterwarnings(\"ignore\")"
   ]
  },
  {
   "cell_type": "code",
   "execution_count": 1,
   "metadata": {},
   "outputs": [],
   "source": [
    "DATA_PATH = '../data/data_set_0926/'\n",
    "FEAT_PATH = './features/'"
   ]
  },
  {
   "cell_type": "code",
   "execution_count": 2,
   "metadata": {},
   "outputs": [
    {
     "name": "stdout",
     "output_type": "stream",
     "text": [
      "Used time: 16 s\n"
     ]
    }
   ],
   "source": [
    "tic = time.time()\n",
    "invite_info = pd.read_table(os.path.join(DATA_PATH, 'invite_info_0926.txt'), header=None)\n",
    "invite_info.columns = ['问题ID','用户ID','邀请创建时间','邀请是否被回答']\n",
    "\n",
    "invite_info_evaluate_A = pd.read_table(os.path.join(DATA_PATH, 'invite_info_evaluate_1_0926.txt'), header=None)\n",
    "invite_info_evaluate_A.columns =  ['问题ID','用户ID','邀请创建时间']\n",
    "\n",
    "invite_info_evaluate_B = pd.read_table(os.path.join(DATA_PATH, 'invite_info_evaluate_2_0926.txt'), header=None)\n",
    "invite_info_evaluate_B.columns =  ['问题ID','用户ID','邀请创建时间']\n",
    "\n",
    "oversample = True\n",
    "\n",
    "if oversample:\n",
    "    data = pd.concat([invite_info, invite_info_evaluate_B, invite_info_evaluate_A], axis=0)\n",
    "else:\n",
    "    data = pd.concat([invite_info, invite_info_evaluate_B], axis=0)\n",
    "    \n",
    "print(\"Used time: %d s\" % (time.time()-tic))"
   ]
  },
  {
   "cell_type": "code",
   "execution_count": 3,
   "metadata": {},
   "outputs": [
    {
     "name": "stdout",
     "output_type": "stream",
     "text": [
      "Used time: 99 s\n"
     ]
    }
   ],
   "source": [
    "tic = time.time()\n",
    "tmp = data['邀请创建时间'].apply(lambda x : x.split('-'))\n",
    "data['邀请创建时间_H'] = tmp.apply(lambda x : int(x[1::1][0][1:]))\n",
    "data['邀请创建时间_D'] = tmp.apply(lambda x : int(x[::2][0][1:]))\n",
    "data['邀请创建时间_DH'] = data['邀请创建时间_D']*24 + data['邀请创建时间_H']\n",
    "\n",
    "data['邀请是否被回答'] = data['邀请是否被回答'].fillna(0)\n",
    "tmp = data[['用户ID', '邀请创建时间_DH','邀请是否被回答']].groupby(['用户ID', '邀请创建时间_DH'])['邀请是否被回答'].sum().reset_index()\n",
    "tmp.columns = ['用户ID', '邀请创建时间_DH', '邀请是否被回答']\n",
    "tmp = tmp.sort_values(by=['用户ID','邀请创建时间_DH'])\n",
    "tmp['用户ID曾经回答数'] = tmp.groupby('用户ID')['邀请是否被回答'].cumsum() - tmp['邀请是否被回答']\n",
    "tmp = tmp.sort_values(by=['用户ID','邀请创建时间_DH'], ascending=False)\n",
    "    \n",
    "data = data.merge(tmp, 'left', ['用户ID','邀请创建时间_DH'])\n",
    "tmp = data[['用户ID曾经回答数']]\n",
    "print(\"Used time: %d s\" % (time.time()-tic))"
   ]
  },
  {
   "cell_type": "code",
   "execution_count": 4,
   "metadata": {},
   "outputs": [],
   "source": [
    "tmp[:len(invite_info)+len(invite_info_evaluate_B)].to_pickle(os.path.join(FEAT_PATH, 'user_last_answers.pickle'))"
   ]
  },
  {
   "cell_type": "code",
   "execution_count": null,
   "metadata": {},
   "outputs": [],
   "source": []
  }
 ],
 "metadata": {
  "kernelspec": {
   "display_name": "Python 3",
   "language": "python",
   "name": "python3"
  },
  "language_info": {
   "codemirror_mode": {
    "name": "ipython",
    "version": 3
   },
   "file_extension": ".py",
   "mimetype": "text/x-python",
   "name": "python",
   "nbconvert_exporter": "python",
   "pygments_lexer": "ipython3",
   "version": "3.6.7"
  }
 },
 "nbformat": 4,
 "nbformat_minor": 2
}
