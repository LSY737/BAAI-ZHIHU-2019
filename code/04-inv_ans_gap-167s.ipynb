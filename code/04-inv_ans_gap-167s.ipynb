{
 "cells": [
  {
   "cell_type": "code",
   "execution_count": 1,
   "metadata": {},
   "outputs": [],
   "source": [
    "import pandas as pd\n",
    "import numpy as np\n",
    "import pickle\n",
    "import gc\n",
    "import os\n",
    "import time\n",
    "import copy\n",
    "import multiprocessing as mp\n",
    "from sklearn.preprocessing import LabelEncoder\n",
    "from sklearn.model_selection import StratifiedKFold\n",
    "from sklearn.feature_extraction.text import CountVectorizer\n",
    "from tqdm import tqdm\n",
    "from scipy import sparse, spatial\n",
    "import warnings\n",
    "warnings.filterwarnings('ignore')"
   ]
  },
  {
   "cell_type": "code",
   "execution_count": 1,
   "metadata": {},
   "outputs": [],
   "source": [
    "DATA_PATH = '../data/data_set_0926/'\n",
    "FEAT_PATH = './features/'"
   ]
  },
  {
   "cell_type": "code",
   "execution_count": 2,
   "metadata": {},
   "outputs": [
    {
     "name": "stdout",
     "output_type": "stream",
     "text": [
      "Used time: 98 s\n"
     ]
    }
   ],
   "source": [
    "tic = time.time()\n",
    "invite_info = pd.read_table(os.path.join(DATA_PATH, 'invite_info_0926.txt'), header=None)\n",
    "invite_info.columns = ['问题ID','用户ID','邀请创建时间','邀请是否被回答']\n",
    "    \n",
    "invite_info_evaluate_A = pd.read_table(os.path.join(DATA_PATH, 'invite_info_evaluate_1_0926.txt'), header=None)\n",
    "invite_info_evaluate_A.columns =  ['问题ID','用户ID','邀请创建时间']\n",
    "\n",
    "invite_info_evaluate_B = pd.read_table(os.path.join(DATA_PATH, 'invite_info_evaluate_2_0926.txt'), header=None)\n",
    "invite_info_evaluate_B.columns =  ['问题ID','用户ID','邀请创建时间']\n",
    "\n",
    "answer_info = pd.read_table('../data/data_set_0926/answer_info_0926.txt',header=None)\n",
    "answer_info.columns = ['回答ID','问题ID','用户ID', '回答创建时间' ,'回答内容的单字编码序列', '回答内容的切词编码序列' ,'回答是否被标优', '回答是否被推荐' ,'回答是否被收入圆桌', '是否包含图片' ,'是否包含视频', '回答字数' ,'点赞数', '取赞数' ,'评论数' ,'收藏数', '感谢数' ,'举报数', '没有帮助数' ,'反对数']\n",
    "\n",
    "oversample = False\n",
    "\n",
    "if oversample:\n",
    "    data = pd.concat([invite_info, invite_info_evaluate_B, invite_info_evaluate_A], axis=0)\n",
    "else:\n",
    "    data = pd.concat([invite_info, invite_info_evaluate_B], axis=0)\n",
    "    \n",
    "print(\"Used time: %d s\" % (time.time()-tic))"
   ]
  },
  {
   "cell_type": "code",
   "execution_count": 3,
   "metadata": {},
   "outputs": [
    {
     "name": "stdout",
     "output_type": "stream",
     "text": [
      "Used time: 89 s\n"
     ]
    }
   ],
   "source": [
    "tic = time.time()\n",
    "tmp = data['邀请创建时间'].apply(lambda x : x.split('-'))\n",
    "data['邀请创建时间_H'] = tmp.apply(lambda x : int(x[1::1][0][1:]))\n",
    "data['邀请创建时间_D'] = tmp.apply(lambda x : int(x[::2][0][1:]))\n",
    "    \n",
    "tmp = answer_info['回答创建时间'].apply(lambda x : x.split('-'))\n",
    "answer_info['回答创建时间_H'] = tmp.apply(lambda x : int(x[1::1][0][1:]))\n",
    "answer_info['回答创建时间_D'] = tmp.apply(lambda x : int(x[::2][0][1:]))\n",
    "\n",
    "data['invite_day'] = data['邀请创建时间_D'].astype(int)\n",
    "data['invite_hour'] = data['邀请创建时间_H'].astype(int)\n",
    "answer_info['answer_day'] = answer_info['回答创建时间_D'].astype(int)\n",
    "answer_info['answer_hour'] = answer_info['回答创建时间_H'].astype(int)\n",
    "data['id'] = np.arange(len(data))\n",
    "answer_info['atime'] = answer_info['回答创建时间_D'] * 24 + answer_info['回答创建时间_H']\n",
    "data['itime'] = data['邀请创建时间_D'] * 24 + data['邀请创建时间_H']\n",
    "inv = data[['id', '用户ID', 'itime']]\n",
    "ans = answer_info[['用户ID', 'atime']]\n",
    "inv.sort_values(by=['用户ID', 'itime'], inplace=True)\n",
    "ans.sort_values(by=['用户ID', 'atime'], inplace=True)\n",
    "         \n",
    "inv.columns = ['id', '用户ID','time']\n",
    "ans.columns = ['用户ID', 'time']\n",
    "    \n",
    "tmp = pd.concat([inv, ans])\n",
    "tmp.sort_values(by=['用户ID', 'time'], inplace=True)\n",
    "\n",
    "print(\"Used time: %d s\" % (time.time()-tic))"
   ]
  },
  {
   "cell_type": "code",
   "execution_count": null,
   "metadata": {},
   "outputs": [
    {
     "name": "stderr",
     "output_type": "stream",
     "text": [
      " 93%|█████████▎| 14159019/15144615 [00:43<00:03, 299247.11it/s]"
     ]
    }
   ],
   "source": [
    "tic = time.time()\n",
    "tmp = tmp[['用户ID','id','time']]\n",
    "last_id = np.nan\n",
    "last_author = '-1'\n",
    "ts = []\n",
    "t = np.nan\n",
    "for author, id, ti in tqdm(tmp.values):\n",
    "    if author != last_author:\n",
    "        if pd.isna(id):\n",
    "            t = ti\n",
    "        else:\n",
    "            t = np.nan\n",
    "        ts.append(np.nan)\n",
    "    elif pd.isna(id):\n",
    "        t = ti\n",
    "        ts.append(np.nan)\n",
    "    else:\n",
    "        ts.append(t)\n",
    "    last_author = author\n",
    "    \n",
    "tmp['last_time'] = ts\n",
    "tmp = tmp[~tmp['id'].isnull()]\n",
    "tmp.sort_values(by='id', inplace=True)\n",
    "tmp['author_time'] = tmp['用户ID'] + '_' + tmp['last_time'].fillna(-1).astype(int).astype(str)\n",
    "    \n",
    "print('NAN ratio: %f' % (tmp['last_time'].isnull().sum() / len(tmp)))\n",
    "    \n",
    "tmp['invite_answer_gap'] = tmp['time'] - tmp['last_time'] \n",
    "\n",
    "print(\"Used time: %d s\" % (time.time()-tic))"
   ]
  },
  {
   "cell_type": "code",
   "execution_count": null,
   "metadata": {},
   "outputs": [],
   "source": [
    "tmp[['invite_answer_gap']].to_pickle(os.path.join(FEAT_PATH, 'inv_ans_gap.pickle'))\n",
    "print(\"Feature Saved, shape:\",tmp.shape)"
   ]
  },
  {
   "cell_type": "code",
   "execution_count": null,
   "metadata": {},
   "outputs": [],
   "source": []
  }
 ],
 "metadata": {
  "kernelspec": {
   "display_name": "Python 3",
   "language": "python",
   "name": "python3"
  },
  "language_info": {
   "codemirror_mode": {
    "name": "ipython",
    "version": 3
   },
   "file_extension": ".py",
   "mimetype": "text/x-python",
   "name": "python",
   "nbconvert_exporter": "python",
   "pygments_lexer": "ipython3",
   "version": "3.6.7"
  }
 },
 "nbformat": 4,
 "nbformat_minor": 2
}
