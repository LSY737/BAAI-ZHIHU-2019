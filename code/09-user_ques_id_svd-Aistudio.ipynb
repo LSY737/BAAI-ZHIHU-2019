{
 "cells": [
  {
   "cell_type": "code",
   "execution_count": 1,
   "metadata": {},
   "outputs": [],
   "source": [
    "import pandas as pd\n",
    "import numpy as np\n",
    "import re\n",
    "import time\n",
    "import os\n",
    "from sklearn.preprocessing import LabelEncoder\n",
    "from sklearn.feature_extraction.text import TfidfVectorizer\n",
    "from sklearn.decomposition import TruncatedSVD\n",
    "import warnings\n",
    "warnings.filterwarnings(\"ignore\")"
   ]
  },
  {
   "cell_type": "code",
   "execution_count": 1,
   "metadata": {},
   "outputs": [],
   "source": [
    "DATA_PATH = '../data/data_set_0926/'\n",
    "FEAT_PATH = './features/'"
   ]
  },
  {
   "cell_type": "code",
   "execution_count": 2,
   "metadata": {},
   "outputs": [],
   "source": [
    "invite_info = pd.read_table(os.path.join(DATA_PATH, 'invite_info_0926.txt'), header=None)\n",
    "invite_info.columns = ['问题ID','用户ID','邀请创建时间','邀请是否被回答']\n",
    "\n",
    "invite_info_evaluate_A = pd.read_table(os.path.join(DATA_PATH, 'invite_info_evaluate_1_0926.txt'), header=None)\n",
    "invite_info_evaluate_A.columns =  ['问题ID','用户ID','邀请创建时间']\n",
    "\n",
    "invite_info_evaluate_B = pd.read_table(os.path.join(DATA_PATH, 'invite_info_evaluate_2_0926.txt'), header=None)\n",
    "invite_info_evaluate_B.columns =  ['问题ID','用户ID','邀请创建时间']\n",
    "\n",
    "oversample = True\n",
    "\n",
    "if oversample:\n",
    "    data = pd.concat([invite_info, invite_info_evaluate_B, invite_info_evaluate_A], axis=0)\n",
    "else:\n",
    "    data = pd.concat([invite_info, invite_info_evaluate_B], axis=0)"
   ]
  },
  {
   "cell_type": "code",
   "execution_count": null,
   "metadata": {},
   "outputs": [],
   "source": [
    "tic = time.time()\n",
    "tmp = data.groupby(['问题ID'])['用户ID'].apply(lambda x:','.join(x)).reset_index()\n",
    "tmp.columns = ['问题ID','问题_用户IDs']\n",
    "data = data.merge(tmp, on='问题ID', how='left')\n",
    "    \n",
    "tmp = data.groupby(['用户ID'])['问题ID'].apply(lambda x:','.join(x)).reset_index()\n",
    "tmp.columns = ['用户ID','用户_问题IDs']\n",
    "data = data.merge(tmp, on='用户ID', how='left')\n",
    "print('Used time: %d' % int(toc-tic))"
   ]
  },
  {
   "cell_type": "code",
   "execution_count": null,
   "metadata": {},
   "outputs": [],
   "source": [
    "tic = time.time()\n",
    "X_1 = TfidfVectorizer(token_pattern='[A-Z0-9]+',binary=True).fit_transform(data['用户_问题IDs'])\n",
    "ques_svd = TruncatedSVD(n_components=10,algorithm='randomized',n_iter=30,random_state=2019).fit_transform(X_1)\n",
    "ques_svd_df = pd.DataFrame(ques_svd, columns=['用户_问题IDs_svd_{}'.format(i) for i in range(1,11)])\n",
    "ques_svd_df[:len(invite_info)+len(invite_info_evaluate_B)].to_pickle(os.path.join(FEAT_PATH, 'user_quesIDs_svd_.pickle'))\n",
    "    \n",
    "X_1 = TfidfVectorizer(token_pattern='[A-Z0-9]+',binary=True).fit_transform(data['问题_用户IDs'])\n",
    "ques_svd = TruncatedSVD(n_components=10,algorithm='randomized',n_iter=30,random_state=2019).fit_transform(X_1)\n",
    "ques_svd_df = pd.DataFrame(ques_svd, columns=['问题_用户IDs_svd_{}'.format(i) for i in range(1,11)])\n",
    "ques_svd_df[:len(invite_info)+len(invite_info_evaluate_B)].to_pickle(os.path.join(FEAT_PATH, 'ques_userIDs_svd.pickle'))\n",
    "\n",
    "toc = time.time()\n",
    "print('Used time: %d' % int(toc-tic))"
   ]
  },
  {
   "cell_type": "code",
   "execution_count": null,
   "metadata": {},
   "outputs": [],
   "source": []
  }
 ],
 "metadata": {
  "kernelspec": {
   "display_name": "Python 3",
   "language": "python",
   "name": "python3"
  },
  "language_info": {
   "codemirror_mode": {
    "name": "ipython",
    "version": 3
   },
   "file_extension": ".py",
   "mimetype": "text/x-python",
   "name": "python",
   "nbconvert_exporter": "python",
   "pygments_lexer": "ipython3",
   "version": "3.6.7"
  }
 },
 "nbformat": 4,
 "nbformat_minor": 2
}
