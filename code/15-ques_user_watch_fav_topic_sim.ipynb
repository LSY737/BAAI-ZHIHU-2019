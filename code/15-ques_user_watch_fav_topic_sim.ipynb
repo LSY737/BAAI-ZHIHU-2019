{
 "cells": [
  {
   "cell_type": "code",
   "execution_count": 1,
   "metadata": {},
   "outputs": [
    {
     "name": "stdout",
     "output_type": "stream",
     "text": [
      "INFO: Pandarallel will run on 64 workers.\n",
      "INFO: Pandarallel will use Memory file system to transfer data between the main process and workers.\n"
     ]
    }
   ],
   "source": [
    "import pandas as pd\n",
    "import numpy as np\n",
    "from tqdm.notebook import tqdm\n",
    "from sklearn.model_selection import StratifiedKFold\n",
    "from sklearn.feature_extraction.text import CountVectorizer\n",
    "from sklearn.preprocessing import LabelEncoder\n",
    "from scipy import sparse\n",
    "import time\n",
    "import gc\n",
    "import re\n",
    "import warnings\n",
    "warnings.filterwarnings(\"ignore\")\n",
    "\n",
    "from pandarallel import pandarallel\n",
    "pandarallel.initialize()"
   ]
  },
  {
   "cell_type": "code",
   "execution_count": 1,
   "metadata": {},
   "outputs": [],
   "source": [
    "DATA_PATH = '../data/data_set_0926/'\n",
    "FEAT_PATH = './features/'"
   ]
  },
  {
   "cell_type": "code",
   "execution_count": 2,
   "metadata": {},
   "outputs": [
    {
     "name": "stdout",
     "output_type": "stream",
     "text": [
      "Used time: 234 s\n"
     ]
    }
   ],
   "source": [
    "tic = time.time()\n",
    "invite_info = pd.read_table(os.path.join(DATA_PATH, 'invite_info_0926.txt'), header=None)\n",
    "invite_info.columns = ['问题ID','用户ID','邀请创建时间','邀请是否被回答']\n",
    "\n",
    "invite_info_evaluate_A = pd.read_table(os.path.join(DATA_PATH, 'invite_info_evaluate_1_0926.txt'), header=None)\n",
    "invite_info_evaluate_A.columns =  ['问题ID','用户ID','邀请创建时间']\n",
    "\n",
    "invite_info_evaluate_B = pd.read_table(os.path.join(DATA_PATH, 'invite_info_evaluate_2_0926.txt'), header=None)\n",
    "invite_info_evaluate_B.columns =  ['问题ID','用户ID','邀请创建时间']\n",
    "\n",
    "answer_info = pd.read_table(os.path.join(DATA_PATH, 'answer_info_0926.txt'), header=None)\n",
    "answer_info.columns = ['回答ID','问题ID','用户ID', '回答创建时间' ,'回答内容的单字编码序列', '回答内容的切词编码序列' ,'回答是否被标优', '回答是否被推荐' ,'回答是否被收入圆桌', '是否包含图片' ,'是否包含视频', '回答字数' ,'点赞数', '取赞数' ,'评论数' ,'收藏数', '感谢数' ,'举报数', '没有帮助数' ,'反对数']\n",
    "\n",
    "word_vectors = pd.read_table(os.path.join(DATA_PATH, 'word_vectors_64d.txt'), header=None)\n",
    "word_vectors.columns = ['词编码序号','W']\n",
    "tmp = word_vectors.W.apply(lambda x: x.split(' '))\n",
    "tmp = pd.DataFrame(list(tmp), columns=['W_{}'.format(i) for i in range(1,65)]) \n",
    "del word_vectors['W']\n",
    "word_vectors = pd.concat([word_vectors, tmp], axis=1)\n",
    "\n",
    "single_word_vectors = pd.read_table(os.path.join(DATA_PATH, 'single_word_vectors_64d.txt'), header=None)\n",
    "single_word_vectors.columns = ['单字编码序号','SW']\n",
    "tmp = single_word_vectors.SW.apply(lambda x: x.split(' '))\n",
    "tmp = pd.DataFrame(list(tmp), columns=['SW_{}'.format(i) for i in range(1,65)]) \n",
    "del single_word_vectors['SW']\n",
    "single_word_vectors = pd.concat([single_word_vectors, tmp], axis=1)\n",
    "\n",
    "topic_vectors = pd.read_table(os.path.join(DATA_PATH, 'topic_vectors_64d.txt'), header=None)\n",
    "topic_vectors.columns = ['话题ID编码序号','Topic']\n",
    "tmp = topic_vectors.Topic.apply(lambda x: x.split(' '))\n",
    "tmp = pd.DataFrame(list(tmp), columns=['T_{}'.format(i) for i in range(1,65)]) \n",
    "del topic_vectors['Topic']\n",
    "topic_vectors = pd.concat([topic_vectors, tmp], axis=1)\n",
    "\n",
    "question_info = pd.read_table(os.path.join(DATA_PATH, 'question_info_0926.txt'), header=None)\n",
    "question_info.columns = ['问题ID',  '问题创建时间' , '问题标题的单字编码序列' , '问题标题的切词编码序列' , '问题描述的单字编码序列',  '问题描述的词编码序列' , '问题绑定的话题ID']\n",
    "\n",
    "member_info = pd.read_table(os.path.join(DATA_PATH, 'member_info_0926.txt'), header=None)\n",
    "member_info.columns = ['用户ID','性别','创作关键词的编码序列','创作数量等级','创作热度等级','注册类型','注册平台','访问频率','用户二分类特征A','用户二分类特征B','用户二分类特征C','用户二分类特征D','用户二分类特征E','用户分类特征A','用户分类特征B','用户分类特征C','用户分类特征D','用户分类特征E','用户的盐值分数','用户关注的话题','用户感兴趣的话题']\n",
    "\n",
    "tmp = member_info['用户感兴趣的话题'].apply(lambda x: re.split('[,:]',x))\n",
    "member_info['用户感兴趣的话题_T'] = tmp.apply(lambda x : ','.join(x[::2]))\n",
    "member_info['用户感兴趣的话题_score'] = tmp.apply(lambda x : ','.join(x[1::2]))\n",
    "\n",
    "oversample = False\n",
    "\n",
    "if oversample:\n",
    "    data = pd.concat([invite_info, invite_info_evaluate_B, invite_info_evaluate_A], axis=0)\n",
    "else:\n",
    "    data = pd.concat([invite_info, invite_info_evaluate_B], axis=0)\n",
    "\n",
    "data = data.merge(member_info, on='用户ID', how='left').merge(question_info, on='问题ID', how='left')\n",
    "\n",
    "print(\"Used time: %d s\" % (time.time()-tic))"
   ]
  },
  {
   "cell_type": "code",
   "execution_count": 3,
   "metadata": {},
   "outputs": [
    {
     "name": "stdout",
     "output_type": "stream",
     "text": [
      "(1829900, 64)\n",
      "Used time: 40 s\n"
     ]
    }
   ],
   "source": [
    "tic = time.time()\n",
    "data['问题绑定的话题ID_len'] = data['问题绑定的话题ID'].apply(lambda x: len(x.split(',')))\n",
    "\n",
    "vocabulary = dict((topic_vectors['话题ID编码序号'][i], i) for i in range(len(topic_vectors)))\n",
    "\n",
    "cnt_vct = CountVectorizer(token_pattern='\\\\w+\\\\d+', binary=True, lowercase=False, vocabulary=vocabulary)\n",
    "cnt_vct.fit(question_info['问题绑定的话题ID'])\n",
    "\n",
    "A = cnt_vct.transform(question_info['问题绑定的话题ID'])\n",
    "\n",
    "B = topic_vectors.values[:, 1:].astype(float)\n",
    "B = sparse.csr_matrix(B)\n",
    "\n",
    "C = A.dot(B)\n",
    "print(C.shape)\n",
    "\n",
    "tmp = pd.DataFrame(C.toarray())\n",
    "tmp.columns = ['问题绑定的话题ID_w2v_sum_{}'.format(i) for i in range(1,65)]\n",
    "tmp['问题ID'] = question_info['问题ID']\n",
    "\n",
    "data_tiny = pd.DataFrame()\n",
    "data_tiny['问题ID'] = data['问题ID']\n",
    "data_tiny = data_tiny.merge(tmp, on='问题ID', how='left')\n",
    "del data_tiny['问题ID']\n",
    "data[list(data_tiny.columns)] = data_tiny\n",
    "\n",
    "for i in range(1,65):\n",
    "    data['问题绑定的话题ID_w2v_sum_{}'.format(i)] = data['问题绑定的话题ID_w2v_sum_{}'.format(i)] / data['问题绑定的话题ID_len']\n",
    "    \n",
    "print(\"Used time: %d s\" % (time.time()-tic))"
   ]
  },
  {
   "cell_type": "code",
   "execution_count": 4,
   "metadata": {},
   "outputs": [
    {
     "data": {
      "application/vnd.jupyter.widget-view+json": {
       "model_id": "50ddf04bb780498faacdf3f81a686fbb",
       "version_major": 2,
       "version_minor": 0
      },
      "text/plain": [
       "HBox(children=(FloatProgress(value=0.0, max=64.0), HTML(value='')))"
      ]
     },
     "metadata": {},
     "output_type": "display_data"
    },
    {
     "name": "stdout",
     "output_type": "stream",
     "text": [
      "\n",
      "Used time: 103 s\n"
     ]
    }
   ],
   "source": [
    "tic = time.time()\n",
    "data['用户关注的话题_len'] = data['用户关注的话题'].apply(lambda x: len(x.split(',')))\n",
    "\n",
    "vocabulary = dict((topic_vectors['话题ID编码序号'][i], i) for i in range(len(topic_vectors)))\n",
    "\n",
    "cnt_vct = CountVectorizer(token_pattern='\\\\w+\\\\d+', binary=True, lowercase=False, vocabulary=vocabulary)\n",
    "cnt_vct.fit(member_info['用户关注的话题'])\n",
    "\n",
    "A = cnt_vct.transform(member_info['用户关注的话题'])\n",
    "\n",
    "B = topic_vectors.values[:, 1:].astype(float)\n",
    "B = sparse.csr_matrix(B)\n",
    "\n",
    "C = A.dot(B)\n",
    "tmp = pd.DataFrame(C.toarray())\n",
    "tmp.columns = ['用户关注的话题_w2v_sum_{}'.format(i) for i in range(1,65)]\n",
    "tmp['用户ID'] = member_info['用户ID']\n",
    "\n",
    "data_tiny = pd.DataFrame()\n",
    "data_tiny['用户ID'] = data['用户ID']\n",
    "data_tiny = data_tiny.merge(tmp, on='用户ID', how='left')\n",
    "del data_tiny['用户ID']\n",
    "data[list(data_tiny.columns)] = data_tiny\n",
    "\n",
    "for i in tqdm(range(1,65)):\n",
    "    data['用户关注的话题_w2v_sum_{}'.format(i)] = data['用户关注的话题_w2v_sum_{}'.format(i)] / data['用户关注的话题_len']\n",
    "    \n",
    "print(\"Used time: %d s\" % (time.time()-tic))"
   ]
  },
  {
   "cell_type": "code",
   "execution_count": 5,
   "metadata": {},
   "outputs": [
    {
     "data": {
      "application/vnd.jupyter.widget-view+json": {
       "model_id": "bf3a33fc1d634e209822f2cf77773f40",
       "version_major": 2,
       "version_minor": 0
      },
      "text/plain": [
       "HBox(children=(FloatProgress(value=0.0, max=64.0), HTML(value='')))"
      ]
     },
     "metadata": {},
     "output_type": "display_data"
    },
    {
     "name": "stdout",
     "output_type": "stream",
     "text": [
      "\n",
      "Used time: 48 s\n"
     ]
    }
   ],
   "source": [
    "tic = time.time()\n",
    "data['用户感兴趣的话题_len'] = data['用户感兴趣的话题_T'].apply(lambda x: len(x.split(',')))\n",
    "\n",
    "vocabulary = dict((topic_vectors['话题ID编码序号'][i], i) for i in range(len(topic_vectors)))\n",
    "\n",
    "cnt_vct = CountVectorizer(token_pattern='\\\\w+\\\\d+', binary=True, lowercase=False, vocabulary=vocabulary)\n",
    "cnt_vct.fit(member_info['用户感兴趣的话题_T'])\n",
    "\n",
    "A = cnt_vct.transform(member_info['用户感兴趣的话题_T'])\n",
    "\n",
    "B = topic_vectors.values[:, 1:].astype(float)\n",
    "B = sparse.csr_matrix(B)\n",
    "\n",
    "C = A.dot(B)\n",
    "tmp = pd.DataFrame(C.toarray())\n",
    "tmp.columns = ['用户感兴趣的话题_w2v_sum_{}'.format(i) for i in range(1,65)]\n",
    "tmp['用户ID'] = member_info['用户ID']\n",
    "\n",
    "data_tiny = pd.DataFrame()\n",
    "data_tiny['用户ID'] = data['用户ID']\n",
    "data_tiny = data_tiny.merge(tmp, on='用户ID', how='left')\n",
    "del data_tiny['用户ID']\n",
    "data[list(data_tiny.columns)] = data_tiny\n",
    "\n",
    "for i in tqdm(range(1,65)):\n",
    "    data['用户感兴趣的话题_w2v_sum_{}'.format(i)] = data['用户感兴趣的话题_w2v_sum_{}'.format(i)] / data['用户感兴趣的话题_len']\n",
    "    \n",
    "print(\"Used time: %d s\" % (time.time()-tic))"
   ]
  },
  {
   "cell_type": "code",
   "execution_count": 6,
   "metadata": {},
   "outputs": [
    {
     "data": {
      "application/vnd.jupyter.widget-view+json": {
       "model_id": "5a4c1bd68074458e85c26bfd3810480b",
       "version_major": 2,
       "version_minor": 0
      },
      "text/plain": [
       "HBox(children=(FloatProgress(value=0.0, max=1141718.0), HTML(value='')))"
      ]
     },
     "metadata": {},
     "output_type": "display_data"
    },
    {
     "name": "stdout",
     "output_type": "stream",
     "text": [
      "\n"
     ]
    },
    {
     "data": {
      "application/vnd.jupyter.widget-view+json": {
       "model_id": "8766b086957c497c880b07a3114f7ad8",
       "version_major": 2,
       "version_minor": 0
      },
      "text/plain": [
       "HBox(children=(FloatProgress(value=0.0, max=1141718.0), HTML(value='')))"
      ]
     },
     "metadata": {},
     "output_type": "display_data"
    },
    {
     "name": "stdout",
     "output_type": "stream",
     "text": [
      "\n"
     ]
    },
    {
     "data": {
      "application/vnd.jupyter.widget-view+json": {
       "model_id": "c41416e95856448aa8b9edb25f469b50",
       "version_major": 2,
       "version_minor": 0
      },
      "text/plain": [
       "HBox(children=(FloatProgress(value=0.0, max=1141718.0), HTML(value='')))"
      ]
     },
     "metadata": {},
     "output_type": "display_data"
    },
    {
     "name": "stdout",
     "output_type": "stream",
     "text": [
      "\n",
      "Used time: 55 s\n"
     ]
    }
   ],
   "source": [
    "tic = time.time()\n",
    "user_watched_topic_feat = ['用户关注的话题_w2v_sum_{}'.format(i) for i in range(1,65)]\n",
    "user_fav_topic_feat = ['用户感兴趣的话题_w2v_sum_{}'.format(i) for i in range(1,65)]\n",
    "ques_topic_feat = ['问题绑定的话题ID_w2v_sum_{}'.format(i) for i in range(1,65)]\n",
    "\n",
    "ques_topic_feat = data[ques_topic_feat].values\n",
    "user_fav_topic_feat = data[user_fav_topic_feat].values\n",
    "user_watched_topic_feat = data[user_watched_topic_feat].values\n",
    "\n",
    "def cosine(u, v):\n",
    "    return np.dot(u, v) / (np.linalg.norm(u) * np.linalg.norm(v))\n",
    "\n",
    "sim = []\n",
    "for i in tqdm(range(ques_topic_feat.shape[0])):\n",
    "    sim.append(cosine(ques_topic_feat[i],user_watched_topic_feat[i]))\n",
    "    \n",
    "sim_I = []\n",
    "for i in tqdm(range(ques_topic_feat.shape[0])):\n",
    "    sim_I.append(cosine(ques_topic_feat[i],user_fav_topic_feat[i]))\n",
    "    \n",
    "sim_II = []\n",
    "for i in tqdm(range(user_fav_topic_feat.shape[0])):\n",
    "    sim_II.append(cosine(user_watched_topic_feat[i],user_fav_topic_feat[i]))\n",
    "    \n",
    "print(\"Used time: %d s\" % (time.time()-tic))"
   ]
  },
  {
   "cell_type": "code",
   "execution_count": 7,
   "metadata": {},
   "outputs": [],
   "source": [
    "np.save(os.path.join(FEAT_PATH, './features/ques_user_watch_topic_sim.npy'), sim)\n",
    "np.save(os.path.join(FEAT_PATH, './features/ques_user_fav_topic_sim.npy'), sim_I)\n",
    "np.save(os.path.join(FEAT_PATH, './features/user_watch_fav_topic_sim.npy'), sim_II)"
   ]
  },
  {
   "cell_type": "code",
   "execution_count": null,
   "metadata": {},
   "outputs": [],
   "source": []
  }
 ],
 "metadata": {
  "kernelspec": {
   "display_name": "Python 3",
   "language": "python",
   "name": "python3"
  },
  "language_info": {
   "codemirror_mode": {
    "name": "ipython",
    "version": 3
   },
   "file_extension": ".py",
   "mimetype": "text/x-python",
   "name": "python",
   "nbconvert_exporter": "python",
   "pygments_lexer": "ipython3",
   "version": "3.6.7"
  }
 },
 "nbformat": 4,
 "nbformat_minor": 2
}
