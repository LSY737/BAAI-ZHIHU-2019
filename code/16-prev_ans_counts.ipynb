{
 "cells": [
  {
   "cell_type": "code",
   "execution_count": 1,
   "metadata": {},
   "outputs": [
    {
     "name": "stdout",
     "output_type": "stream",
     "text": [
      "INFO: Pandarallel will run on 64 workers.\n",
      "INFO: Pandarallel will use Memory file system to transfer data between the main process and workers.\n"
     ]
    }
   ],
   "source": [
    "import pandas as pd\n",
    "import numpy as np\n",
    "from tqdm.notebook import tqdm\n",
    "from sklearn.model_selection import StratifiedKFold\n",
    "from sklearn.feature_extraction.text import CountVectorizer\n",
    "from sklearn.preprocessing import LabelEncoder\n",
    "from scipy import sparse\n",
    "import time\n",
    "import gc\n",
    "import re\n",
    "import warnings\n",
    "warnings.filterwarnings(\"ignore\")\n",
    "\n",
    "from pandarallel import pandarallel\n",
    "pandarallel.initialize()"
   ]
  },
  {
   "cell_type": "code",
   "execution_count": null,
   "metadata": {},
   "outputs": [],
   "source": [
    "DATA_PATH = '../data/data_set_0926/'\n",
    "FEAT_PATH = './features/'"
   ]
  },
  {
   "cell_type": "code",
   "execution_count": 2,
   "metadata": {},
   "outputs": [
    {
     "name": "stdout",
     "output_type": "stream",
     "text": [
      "Used time: 83 s\n"
     ]
    }
   ],
   "source": [
    "tic = time.time()\n",
    "invite_info = pd.read_table(os.path.join(DATA_PATH, 'invite_info_0926.txt'), header=None)\n",
    "invite_info.columns = ['问题ID','用户ID','邀请创建时间','邀请是否被回答']\n",
    "\n",
    "invite_info_evaluate_A = pd.read_table(os.path.join(DATA_PATH, 'invite_info_evaluate_1_0926.txt'), header=None)\n",
    "invite_info_evaluate_A.columns =  ['问题ID','用户ID','邀请创建时间']\n",
    "\n",
    "invite_info_evaluate_B = pd.read_table(os.path.join(DATA_PATH, 'invite_info_evaluate_2_0926.txt'), header=None)\n",
    "invite_info_evaluate_B.columns =  ['问题ID','用户ID','邀请创建时间']\n",
    "\n",
    "answer_info = pd.read_table(os.path.join(DATA_PATH, 'answer_info_0926.txt'), header=None)\n",
    "answer_info.columns = ['回答ID','问题ID','用户ID', '回答创建时间' ,'回答内容的单字编码序列', '回答内容的切词编码序列' ,'回答是否被标优', '回答是否被推荐' ,'回答是否被收入圆桌', '是否包含图片' ,'是否包含视频', '回答字数' ,'点赞数', '取赞数' ,'评论数' ,'收藏数', '感谢数' ,'举报数', '没有帮助数' ,'反对数']\n",
    "\n",
    "oversample = False\n",
    "\n",
    "if oversample:\n",
    "    data = pd.concat([invite_info, invite_info_evaluate_B, invite_info_evaluate_A], axis=0)\n",
    "else:\n",
    "    data = pd.concat([invite_info, invite_info_evaluate_B], axis=0)\n",
    "\n",
    "print(\"Used time: %d s\" % (time.time()-tic))"
   ]
  },
  {
   "cell_type": "code",
   "execution_count": 3,
   "metadata": {},
   "outputs": [
    {
     "name": "stdout",
     "output_type": "stream",
     "text": [
      "Used time: 102 s\n"
     ]
    }
   ],
   "source": [
    "tic = time.time()\n",
    "tmp = data['邀请创建时间'].apply(lambda x : x.split('-'))\n",
    "data['邀请创建时间_H'] = tmp.apply(lambda x : int(x[1::1][0][1:]))\n",
    "data['邀请创建时间_D'] = tmp.apply(lambda x : int(x[::2][0][1:]))\n",
    "\n",
    "tmp = answer_info['回答创建时间'].apply(lambda x : x.split('-'))\n",
    "answer_info['回答创建时间_H'] = tmp.apply(lambda x : int(x[1::1][0][1:]))\n",
    "answer_info['回答创建时间_D'] = tmp.apply(lambda x : int(x[::2][0][1:]))\n",
    "\n",
    "data['id'] = np.arange(len(data))\n",
    "answer_info['atime'] = answer_info['回答创建时间_D'] * 24 + answer_info['回答创建时间_H']\n",
    "data['itime'] = data['邀请创建时间_D'] * 24 + data['邀请创建时间_H']\n",
    "inv = data[['id', '用户ID', 'itime']]\n",
    "ans = answer_info[['回答ID','问题ID','用户ID','回答创建时间_D','回答创建时间_H','atime','回答内容的单字编码序列', '回答内容的切词编码序列', '回答是否被标优', '回答是否被推荐' ,'回答是否被收入圆桌', '是否包含图片' ,'是否包含视频', '回答字数' ,'点赞数', '取赞数' ,'评论数' ,'收藏数', '感谢数' ,'举报数', '没有帮助数' ,'反对数']]\n",
    "inv.sort_values(by=['用户ID', 'itime'], inplace=True)\n",
    "ans.sort_values(by=['用户ID', 'atime'], inplace=True)\n",
    "\n",
    "inv.columns = ['id', '用户ID','time']\n",
    "ans.columns = ['回答ID','问题ID','用户ID','回答创建时间_D','回答创建时间_H', 'time','回答内容的单字编码序列', '回答内容的切词编码序列','回答是否被标优', '回答是否被推荐' ,'回答是否被收入圆桌', '是否包含图片' ,'是否包含视频', '回答字数' ,'点赞数', '取赞数' ,'评论数' ,'收藏数', '感谢数' ,'举报数', '没有帮助数' ,'反对数']\n",
    "\n",
    "tmp = pd.concat([inv, ans])\n",
    "tmp.sort_values(by=['用户ID', 'time'], inplace=True)\n",
    "\n",
    "print(\"Used time: %d s\" % (time.time()-tic))"
   ]
  },
  {
   "cell_type": "code",
   "execution_count": 4,
   "metadata": {},
   "outputs": [],
   "source": [
    "def last_ans_stats(tmp):\n",
    "    last_author = '-1'\n",
    "    ts = []\n",
    "    for answer_id, id ,author, ti, answer_words in (tmp.values):\n",
    "        if author != last_author:\n",
    "            answer_list = []\n",
    "            if pd.isna(id):\n",
    "                answer_list.append(answer_words)\n",
    "            ts.append(np.nan)\n",
    "\n",
    "        elif pd.isna(id):\n",
    "            if len(answer_list)!=0:\n",
    "                ts.append(list(answer_list))\n",
    "            else:\n",
    "                ts.append(np.nan)\n",
    "            answer_list.append(answer_words)\n",
    "\n",
    "        else:\n",
    "            if len(answer_list)!=0:\n",
    "                ts.append(list(answer_list))\n",
    "            else:\n",
    "                ts.append(np.nan)\n",
    "\n",
    "        last_author = author\n",
    "\n",
    "\n",
    "    tmp['answer_words'] = ts\n",
    "    #tmp = tmp[~tmp['id'].isnull()]\n",
    "    #tmp.sort_values(by='id', inplace=True)\n",
    "    return tmp['answer_words']"
   ]
  },
  {
   "cell_type": "code",
   "execution_count": null,
   "metadata": {},
   "outputs": [
    {
     "data": {
      "application/vnd.jupyter.widget-view+json": {
       "model_id": "2ccb2f115ef44ea0a72ab8c087345108",
       "version_major": 2,
       "version_minor": 0
      },
      "text/plain": [
       "HBox(children=(FloatProgress(value=0.0, max=14.0), HTML(value='')))"
      ]
     },
     "metadata": {},
     "output_type": "display_data"
    },
    {
     "name": "stdout",
     "output_type": "stream",
     "text": [
      "\n"
     ]
    },
    {
     "data": {
      "application/vnd.jupyter.widget-view+json": {
       "model_id": "7a8efc481a5147f3bc31798a76d3ef5d",
       "version_major": 2,
       "version_minor": 0
      },
      "text/plain": [
       "HBox(children=(FloatProgress(value=0.0, max=5.0), HTML(value='')))"
      ]
     },
     "metadata": {},
     "output_type": "display_data"
    },
    {
     "name": "stdout",
     "output_type": "stream",
     "text": [
      "\n"
     ]
    },
    {
     "data": {
      "application/vnd.jupyter.widget-view+json": {
       "model_id": "d8d168de02724e939b2b822aefbbba8e",
       "version_major": 2,
       "version_minor": 0
      },
      "text/plain": [
       "HBox(children=(FloatProgress(value=0.0, max=9.0), HTML(value='')))"
      ]
     },
     "metadata": {},
     "output_type": "display_data"
    },
    {
     "name": "stdout",
     "output_type": "stream",
     "text": [
      "\n"
     ]
    }
   ],
   "source": [
    "tic = time.time()\n",
    "for feat in tqdm(['回答是否被标优', '回答是否被推荐' ,'回答是否被收入圆桌', '是否包含图片' ,'是否包含视频','回答字数' ,'点赞数', '取赞数' ,'评论数' ,'收藏数', '感谢数' ,'举报数', '没有帮助数' ,'反对数']):\n",
    "    tmpp = tmp[['回答ID','id','用户ID','time',feat]]\n",
    "    res = last_ans_stats(tmpp)\n",
    "    tmp[feat] = res\n",
    "    \n",
    "tmp = tmp[~tmp['id'].isnull()]\n",
    "tmp.sort_values(by='id', inplace=True)\n",
    "\n",
    "for feat in tqdm(['回答是否被标优', '回答是否被推荐' ,'回答是否被收入圆桌', '是否包含图片' ,'是否包含视频']):\n",
    "    tmp[f'{feat}_count'] = tmp[feat].parallel_apply(lambda x: np.sum(x))\n",
    "    \n",
    "for feat in tqdm(['回答字数' ,'点赞数', '取赞数' ,'评论数' ,'收藏数', '感谢数' ,'举报数', '没有帮助数' ,'反对数']):\n",
    "    tmp[f'{feat}_mean'] = tmp[feat].parallel_apply(lambda x: np.mean(x))\n",
    "    tmp[f'{feat}_sum'] = tmp[feat].parallel_apply(lambda x: np.sum(x))\n",
    "    \n",
    "tmp_I = tmp[['回答是否被标优_count', '回答是否被推荐_count' ,'回答是否被收入圆桌_count', '是否包含图片_count' ,'是否包含视频_count','回答字数_mean' ,'点赞数_mean', '取赞数_mean' ,'评论数_mean' ,'收藏数_mean', '感谢数_mean' ,'举报数_mean', '没有帮助数_mean' ,'反对数_mean']]\n",
    "tmp_II = tmp[['回答字数_sum' ,'点赞数_sum', '取赞数_sum' ,'评论数_sum' ,'收藏数_sum', '感谢数_sum' ,'举报数_sum', '没有帮助数_sum' ,'反对数_sum']]\n",
    "\n",
    "print(\"Used time: %d s\" % (time.time()-tic))"
   ]
  },
  {
   "cell_type": "code",
   "execution_count": null,
   "metadata": {},
   "outputs": [],
   "source": [
    "#tmp_I.to_pickle('./features/answer_last_stat.pkl')\n",
    "#tmp_II.to_pickle('./features/answer_last_stat_I.pkl')"
   ]
  },
  {
   "cell_type": "code",
   "execution_count": null,
   "metadata": {},
   "outputs": [],
   "source": [
    "tmp_I.to_pickle(os.path.join(FEAT_PATH, './features/answer_last_stat.pkl'))\n",
    "print(\"Feature Saved, shape:\",tmp_I.shape)\n",
    "\n",
    "tmp_II.to_pickle(os.path.join(FEAT_PATH, './features/answer_last_stat_I.pkl'))\n",
    "print(\"Feature Saved, shape:\",tmp_II.shape)"
   ]
  },
  {
   "cell_type": "code",
   "execution_count": null,
   "metadata": {},
   "outputs": [],
   "source": []
  }
 ],
 "metadata": {
  "kernelspec": {
   "display_name": "Python 3",
   "language": "python",
   "name": "python3"
  },
  "language_info": {
   "codemirror_mode": {
    "name": "ipython",
    "version": 3
   },
   "file_extension": ".py",
   "mimetype": "text/x-python",
   "name": "python",
   "nbconvert_exporter": "python",
   "pygments_lexer": "ipython3",
   "version": "3.6.7"
  }
 },
 "nbformat": 4,
 "nbformat_minor": 2
}
